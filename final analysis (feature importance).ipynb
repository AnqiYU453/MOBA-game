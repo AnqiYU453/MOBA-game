{
 "cells": [
  {
   "cell_type": "markdown",
   "id": "6a08bc35",
   "metadata": {},
   "source": [
    "### Load libraries"
   ]
  },
  {
   "cell_type": "code",
   "execution_count": 1,
   "id": "33c1f88f",
   "metadata": {},
   "outputs": [
    {
     "name": "stdout",
     "output_type": "stream",
     "text": [
      "3.9.7 (default, Sep 16 2021, 16:59:28) [MSC v.1916 64 bit (AMD64)]\n",
      "1.1.2\n"
     ]
    }
   ],
   "source": [
    "import sys\n",
    "import pandas as pd\n",
    "import numpy as np\n",
    "import matplotlib.pyplot as plt\n",
    "%matplotlib inline\n",
    "import warnings\n",
    "warnings.filterwarnings('ignore')\n",
    "from sklearn import set_config\n",
    "set_config(display=\"diagram\")\n",
    "np.random.seed(42)\n",
    "\n",
    "import sklearn\n",
    "from sklearn.model_selection import train_test_split, GridSearchCV, cross_val_score\n",
    "from sklearn.pipeline import make_pipeline\n",
    "from sklearn.preprocessing import PolynomialFeatures, OneHotEncoder\n",
    "from sklearn.dummy import DummyClassifier\n",
    "from sklearn.linear_model import LogisticRegression\n",
    "from sklearn.ensemble import RandomForestClassifier\n",
    "from sklearn.tree import DecisionTreeClassifier\n",
    "from sklearn.neighbors import KNeighborsClassifier\n",
    "from sklearn.svm import SVC\n",
    "from sklearn.metrics import f1_score, classification_report, confusion_matrix, ConfusionMatrixDisplay\n",
    "\n",
    "from sklearn.inspection import permutation_importance\n",
    "\n",
    "print(sys.version) # version of Python\n",
    "print(sklearn.__version__) # version of sklearn module"
   ]
  },
  {
   "cell_type": "markdown",
   "id": "8a400f16",
   "metadata": {},
   "source": [
    "### 1. Data exploration"
   ]
  },
  {
   "cell_type": "code",
   "execution_count": 2,
   "id": "8cb2d750",
   "metadata": {},
   "outputs": [
    {
     "data": {
      "text/html": [
       "<div>\n",
       "<style scoped>\n",
       "    .dataframe tbody tr th:only-of-type {\n",
       "        vertical-align: middle;\n",
       "    }\n",
       "\n",
       "    .dataframe tbody tr th {\n",
       "        vertical-align: top;\n",
       "    }\n",
       "\n",
       "    .dataframe thead th {\n",
       "        text-align: right;\n",
       "    }\n",
       "</style>\n",
       "<table border=\"1\" class=\"dataframe\">\n",
       "  <thead>\n",
       "    <tr style=\"text-align: right;\">\n",
       "      <th></th>\n",
       "      <th>FavouriteRole</th>\n",
       "      <th>LeastFavoriteRole</th>\n",
       "      <th>RoleMostPlay</th>\n",
       "      <th>RoleLeastPlay</th>\n",
       "      <th>BestRole</th>\n",
       "      <th>WorstRole</th>\n",
       "      <th>FavoritePosition</th>\n",
       "      <th>LeastFavoritePosition</th>\n",
       "      <th>BestPosition</th>\n",
       "      <th>WorstPosition</th>\n",
       "      <th>...</th>\n",
       "      <th>ganrao</th>\n",
       "      <th>yunxuan</th>\n",
       "      <th>jinghua</th>\n",
       "      <th>ruohua</th>\n",
       "      <th>shanxian</th>\n",
       "      <th>Neuroticism</th>\n",
       "      <th>Extraversion</th>\n",
       "      <th>Openness</th>\n",
       "      <th>Agreeableness</th>\n",
       "      <th>Conscientiousness</th>\n",
       "    </tr>\n",
       "  </thead>\n",
       "  <tbody>\n",
       "    <tr>\n",
       "      <th>0</th>\n",
       "      <td>2</td>\n",
       "      <td>3</td>\n",
       "      <td>2</td>\n",
       "      <td>1</td>\n",
       "      <td>2</td>\n",
       "      <td>4</td>\n",
       "      <td>5</td>\n",
       "      <td>1</td>\n",
       "      <td>5</td>\n",
       "      <td>1</td>\n",
       "      <td>...</td>\n",
       "      <td>0.0</td>\n",
       "      <td>0.0</td>\n",
       "      <td>0.0</td>\n",
       "      <td>0.0</td>\n",
       "      <td>1.0</td>\n",
       "      <td>high</td>\n",
       "      <td>high</td>\n",
       "      <td>high</td>\n",
       "      <td>high</td>\n",
       "      <td>high</td>\n",
       "    </tr>\n",
       "    <tr>\n",
       "      <th>1</th>\n",
       "      <td>1</td>\n",
       "      <td>5</td>\n",
       "      <td>1</td>\n",
       "      <td>5</td>\n",
       "      <td>1</td>\n",
       "      <td>5</td>\n",
       "      <td>1</td>\n",
       "      <td>4</td>\n",
       "      <td>1</td>\n",
       "      <td>4</td>\n",
       "      <td>...</td>\n",
       "      <td>0.0</td>\n",
       "      <td>0.0</td>\n",
       "      <td>0.0</td>\n",
       "      <td>0.0</td>\n",
       "      <td>1.0</td>\n",
       "      <td>high</td>\n",
       "      <td>high</td>\n",
       "      <td>low</td>\n",
       "      <td>low</td>\n",
       "      <td>low</td>\n",
       "    </tr>\n",
       "    <tr>\n",
       "      <th>2</th>\n",
       "      <td>5</td>\n",
       "      <td>2</td>\n",
       "      <td>5</td>\n",
       "      <td>2</td>\n",
       "      <td>5</td>\n",
       "      <td>2</td>\n",
       "      <td>4</td>\n",
       "      <td>3</td>\n",
       "      <td>4</td>\n",
       "      <td>3</td>\n",
       "      <td>...</td>\n",
       "      <td>0.0</td>\n",
       "      <td>0.0</td>\n",
       "      <td>0.0</td>\n",
       "      <td>0.0</td>\n",
       "      <td>1.0</td>\n",
       "      <td>high</td>\n",
       "      <td>low</td>\n",
       "      <td>high</td>\n",
       "      <td>high</td>\n",
       "      <td>low</td>\n",
       "    </tr>\n",
       "    <tr>\n",
       "      <th>3</th>\n",
       "      <td>6</td>\n",
       "      <td>2</td>\n",
       "      <td>6</td>\n",
       "      <td>1</td>\n",
       "      <td>6</td>\n",
       "      <td>1</td>\n",
       "      <td>5</td>\n",
       "      <td>2</td>\n",
       "      <td>5</td>\n",
       "      <td>1</td>\n",
       "      <td>...</td>\n",
       "      <td>0.0</td>\n",
       "      <td>0.0</td>\n",
       "      <td>0.0</td>\n",
       "      <td>0.0</td>\n",
       "      <td>0.0</td>\n",
       "      <td>high</td>\n",
       "      <td>low</td>\n",
       "      <td>low</td>\n",
       "      <td>high</td>\n",
       "      <td>low</td>\n",
       "    </tr>\n",
       "    <tr>\n",
       "      <th>4</th>\n",
       "      <td>1</td>\n",
       "      <td>5</td>\n",
       "      <td>1</td>\n",
       "      <td>6</td>\n",
       "      <td>1</td>\n",
       "      <td>5</td>\n",
       "      <td>5</td>\n",
       "      <td>1</td>\n",
       "      <td>4</td>\n",
       "      <td>1</td>\n",
       "      <td>...</td>\n",
       "      <td>0.0</td>\n",
       "      <td>0.0</td>\n",
       "      <td>0.0</td>\n",
       "      <td>0.0</td>\n",
       "      <td>1.0</td>\n",
       "      <td>high</td>\n",
       "      <td>low</td>\n",
       "      <td>low</td>\n",
       "      <td>low</td>\n",
       "      <td>low</td>\n",
       "    </tr>\n",
       "  </tbody>\n",
       "</table>\n",
       "<p>5 rows × 27 columns</p>\n",
       "</div>"
      ],
      "text/plain": [
       "   FavouriteRole  LeastFavoriteRole  RoleMostPlay  RoleLeastPlay  BestRole  \\\n",
       "0              2                  3             2              1         2   \n",
       "1              1                  5             1              5         1   \n",
       "2              5                  2             5              2         5   \n",
       "3              6                  2             6              1         6   \n",
       "4              1                  5             1              6         1   \n",
       "\n",
       "   WorstRole  FavoritePosition  LeastFavoritePosition  BestPosition  \\\n",
       "0          4                 5                      1             5   \n",
       "1          5                 1                      4             1   \n",
       "2          2                 4                      3             4   \n",
       "3          1                 5                      2             5   \n",
       "4          5                 5                      1             4   \n",
       "\n",
       "   WorstPosition  ...  ganrao  yunxuan  jinghua  ruohua  shanxian  \\\n",
       "0              1  ...     0.0      0.0      0.0     0.0       1.0   \n",
       "1              4  ...     0.0      0.0      0.0     0.0       1.0   \n",
       "2              3  ...     0.0      0.0      0.0     0.0       1.0   \n",
       "3              1  ...     0.0      0.0      0.0     0.0       0.0   \n",
       "4              1  ...     0.0      0.0      0.0     0.0       1.0   \n",
       "\n",
       "   Neuroticism  Extraversion  Openness  Agreeableness  Conscientiousness  \n",
       "0         high          high      high           high               high  \n",
       "1         high          high       low            low                low  \n",
       "2         high           low      high           high                low  \n",
       "3         high           low       low           high                low  \n",
       "4         high           low       low            low                low  \n",
       "\n",
       "[5 rows x 27 columns]"
      ]
     },
     "execution_count": 2,
     "metadata": {},
     "output_type": "execute_result"
    }
   ],
   "source": [
    "data_path = 'game_data.csv'\n",
    "encoding = 'utf-8'\n",
    "data = pd.read_csv(data_path, delimiter=',', encoding=encoding)\n",
    "data.head()"
   ]
  },
  {
   "cell_type": "code",
   "execution_count": 3,
   "id": "53ed2178",
   "metadata": {},
   "outputs": [
    {
     "name": "stdout",
     "output_type": "stream",
     "text": [
      "<class 'pandas.core.frame.DataFrame'>\n",
      "RangeIndex: 1058 entries, 0 to 1057\n",
      "Data columns (total 27 columns):\n",
      " #   Column                 Non-Null Count  Dtype  \n",
      "---  ------                 --------------  -----  \n",
      " 0   FavouriteRole          1058 non-null   int64  \n",
      " 1   LeastFavoriteRole      1058 non-null   int64  \n",
      " 2   RoleMostPlay           1058 non-null   int64  \n",
      " 3   RoleLeastPlay          1058 non-null   int64  \n",
      " 4   BestRole               1058 non-null   int64  \n",
      " 5   WorstRole              1058 non-null   int64  \n",
      " 6   FavoritePosition       1058 non-null   int64  \n",
      " 7   LeastFavoritePosition  1058 non-null   int64  \n",
      " 8   BestPosition           1058 non-null   int64  \n",
      " 9   WorstPosition          1058 non-null   int64  \n",
      " 10  PositionMostPlay       1058 non-null   int64  \n",
      " 11  PositionLeastPlay      1058 non-null   int64  \n",
      " 12  chengjie               1058 non-null   float64\n",
      " 13  zhongjie               1058 non-null   float64\n",
      " 14  kuangbao               1058 non-null   float64\n",
      " 15  jipao                  1058 non-null   float64\n",
      " 16  zhiliao                1058 non-null   float64\n",
      " 17  ganrao                 1058 non-null   float64\n",
      " 18  yunxuan                1058 non-null   float64\n",
      " 19  jinghua                1058 non-null   float64\n",
      " 20  ruohua                 1058 non-null   float64\n",
      " 21  shanxian               1058 non-null   float64\n",
      " 22  Neuroticism            1058 non-null   object \n",
      " 23  Extraversion           1058 non-null   object \n",
      " 24  Openness               1058 non-null   object \n",
      " 25  Agreeableness          1058 non-null   object \n",
      " 26  Conscientiousness      1058 non-null   object \n",
      "dtypes: float64(10), int64(12), object(5)\n",
      "memory usage: 223.3+ KB\n"
     ]
    }
   ],
   "source": [
    "data.info()"
   ]
  },
  {
   "cell_type": "code",
   "execution_count": 4,
   "id": "948abab0",
   "metadata": {},
   "outputs": [
    {
     "data": {
      "text/plain": [
       "1    298\n",
       "6    251\n",
       "2    159\n",
       "4    155\n",
       "5    137\n",
       "3     58\n",
       "Name: FavouriteRole, dtype: int64"
      ]
     },
     "execution_count": 4,
     "metadata": {},
     "output_type": "execute_result"
    }
   ],
   "source": [
    "data.FavouriteRole.value_counts()"
   ]
  },
  {
   "cell_type": "code",
   "execution_count": 5,
   "id": "6cfd8ce0",
   "metadata": {},
   "outputs": [
    {
     "data": {
      "text/plain": [
       "2    321\n",
       "1    216\n",
       "3    202\n",
       "4    188\n",
       "5    131\n",
       "Name: FavoritePosition, dtype: int64"
      ]
     },
     "execution_count": 5,
     "metadata": {},
     "output_type": "execute_result"
    }
   ],
   "source": [
    "data.FavoritePosition.value_counts()"
   ]
  },
  {
   "cell_type": "code",
   "execution_count": 6,
   "id": "498a2e93",
   "metadata": {},
   "outputs": [
    {
     "name": "stdout",
     "output_type": "stream",
     "text": [
      "high    0.50189\n",
      "low     0.49811\n",
      "Name: Neuroticism, dtype: float64\n"
     ]
    }
   ],
   "source": [
    "# calculate the class distribution percentage \n",
    "print(data['Neuroticism'].value_counts(normalize=True))"
   ]
  },
  {
   "cell_type": "code",
   "execution_count": 7,
   "id": "d906d38c",
   "metadata": {},
   "outputs": [
    {
     "name": "stdout",
     "output_type": "stream",
     "text": [
      "high    0.500945\n",
      "low     0.499055\n",
      "Name: Extraversion, dtype: float64\n"
     ]
    }
   ],
   "source": [
    "# calculate the class distribution percentage \n",
    "print(data['Extraversion'].value_counts(normalize=True))"
   ]
  },
  {
   "cell_type": "code",
   "execution_count": 8,
   "id": "ac5f2548",
   "metadata": {},
   "outputs": [
    {
     "name": "stdout",
     "output_type": "stream",
     "text": [
      "high    0.545369\n",
      "low     0.454631\n",
      "Name: Openness, dtype: float64\n"
     ]
    }
   ],
   "source": [
    "# calculate the class distribution percentage \n",
    "print(data['Openness'].value_counts(normalize=True))"
   ]
  },
  {
   "cell_type": "code",
   "execution_count": 9,
   "id": "a2eaf22d",
   "metadata": {},
   "outputs": [
    {
     "name": "stdout",
     "output_type": "stream",
     "text": [
      "high    0.551985\n",
      "low     0.448015\n",
      "Name: Agreeableness, dtype: float64\n"
     ]
    }
   ],
   "source": [
    "# calculate the class distribution percentage \n",
    "print(data['Agreeableness'].value_counts(normalize=True))"
   ]
  },
  {
   "cell_type": "code",
   "execution_count": 10,
   "id": "a00e6f12",
   "metadata": {},
   "outputs": [
    {
     "name": "stdout",
     "output_type": "stream",
     "text": [
      "high    0.504726\n",
      "low     0.495274\n",
      "Name: Conscientiousness, dtype: float64\n"
     ]
    }
   ],
   "source": [
    "# calculate the class distribution percentage \n",
    "print(data['Conscientiousness'].value_counts(normalize=True))"
   ]
  },
  {
   "cell_type": "code",
   "execution_count": 11,
   "id": "df3c6396",
   "metadata": {},
   "outputs": [
    {
     "data": {
      "image/png": "[encoded data removed]",
      "text/plain": [
       "<Figure size 1800x1080 with 25 Axes>"
      ]
     },
     "metadata": {
      "needs_background": "light"
     },
     "output_type": "display_data"
    }
   ],
   "source": [
    "pd.plotting.hist_frame(data, figsize=(25,15));"
   ]
  },
  {
   "cell_type": "markdown",
   "id": "e1ed33e7",
   "metadata": {},
   "source": [
    "### 2. Experiments"
   ]
  },
  {
   "cell_type": "markdown",
   "id": "fe9a6c93",
   "metadata": {},
   "source": [
    "### 2.1 Neuroticism"
   ]
  },
  {
   "cell_type": "markdown",
   "id": "143ca074",
   "metadata": {},
   "source": [
    "#### 2.1.1 Split data "
   ]
  },
  {
   "cell_type": "code",
   "execution_count": 12,
   "id": "153bb136",
   "metadata": {},
   "outputs": [
    {
     "data": {
      "text/plain": [
       "((793, 22), (265, 22), (793,), (265,))"
      ]
     },
     "execution_count": 12,
     "metadata": {},
     "output_type": "execute_result"
    }
   ],
   "source": [
    "X = data[['FavouriteRole', 'LeastFavoriteRole', 'RoleMostPlay', 'RoleLeastPlay', 'BestRole','WorstRole',\n",
    "          'FavoritePosition', 'LeastFavoritePosition', 'BestPosition','WorstPosition','PositionMostPlay','PositionLeastPlay', \n",
    "          'chengjie', 'zhongjie', 'kuangbao', 'jipao', 'zhiliao', 'ganrao', 'yunxuan', 'jinghua', 'ruohua', 'shanxian']]\n",
    "y = data['Neuroticism']\n",
    "\n",
    "X_train, X_test, y_train, y_test = train_test_split(X, y, test_size=0.25, stratify=y, random_state=42, shuffle=True,)\n",
    "X_train.shape, X_test.shape, y_train.shape, y_test.shape"
   ]
  },
  {
   "cell_type": "markdown",
   "id": "87e09f1f",
   "metadata": {},
   "source": [
    "#### 2.1.2 Baseline model"
   ]
  },
  {
   "cell_type": "code",
   "execution_count": 9,
   "id": "9c7b4b67",
   "metadata": {},
   "outputs": [
    {
     "name": "stdout",
     "output_type": "stream",
     "text": [
      "0.501891551071879\n",
      "0.33417085427135673\n"
     ]
    }
   ],
   "source": [
    "dummy = DummyClassifier(strategy=\"most_frequent\", random_state=42)\n",
    "dummy.fit(X_train, y_train)\n",
    "accuracy = dummy.score(X_train, y_train)\n",
    "print(accuracy)\n",
    "\n",
    "y_pred = dummy.predict(X_test)\n",
    "f1 = f1_score(y_test, y_pred, average='macro')\n",
    "print(f1)"
   ]
  },
  {
   "cell_type": "markdown",
   "id": "04782ce6",
   "metadata": {},
   "source": [
    "#### 2.1.3 Model performance comparison (evaluation metric: macro F1 score)"
   ]
  },
  {
   "cell_type": "markdown",
   "id": "e4d73b11",
   "metadata": {},
   "source": [
    "#### 1) Logistic Regression \n",
    "#### 10-fold gridsearch cv to fine tune the hyperparameters"
   ]
  },
  {
   "cell_type": "code",
   "execution_count": 15,
   "id": "9093bba2",
   "metadata": {
    "scrolled": true
   },
   "outputs": [
    {
     "name": "stdout",
     "output_type": "stream",
     "text": [
      "Fitting 10 folds for each of 20 candidates, totalling 200 fits\n",
      "best score: 0.6586767966283051\n",
      "best params: {'logisticregression__C': 0.01, 'logisticregression__solver': 'sag'}\n"
     ]
    }
   ],
   "source": [
    "# OneHotEncoder to make sure the multicategorical data are nominal data instead of ordinal data\n",
    "\n",
    "lr = make_pipeline(OneHotEncoder(),\n",
    "                   LogisticRegression(class_weight='balanced', random_state=42))\n",
    "\n",
    "lr_param_grid={'logisticregression__C': [0.01, 0.1, 1.0, 10, 100],\n",
    "               'logisticregression__solver': ['newton-cg', 'sag', 'saga','lbfgs']}\n",
    "\n",
    "lr_gs = GridSearchCV(lr, lr_param_grid, cv=10, scoring='f1_macro', n_jobs=-1, verbose=1, refit=True)\n",
    "lr_gs.fit(X_train, y_train)\n",
    "\n",
    "print(f\"best score: {lr_gs.best_score_}\")\n",
    "print(f\"best params: {lr_gs.best_params_}\")"
   ]
  },
  {
   "cell_type": "markdown",
   "id": "e80125dd",
   "metadata": {},
   "source": [
    "#### 10-fold cv to make sure the model is not overfitting"
   ]
  },
  {
   "cell_type": "code",
   "execution_count": 23,
   "id": "c844cb87",
   "metadata": {},
   "outputs": [
    {
     "name": "stdout",
     "output_type": "stream",
     "text": [
      "[0.67479675 0.61195431 0.67171717 0.63078163 0.72111682 0.58227848\n",
      " 0.61872587 0.74679487 0.6835443  0.64505777]\n",
      "0.6586767966283051\n",
      "0.048260995389731054\n"
     ]
    }
   ],
   "source": [
    "best_lr = lr_gs.best_estimator_\n",
    "\n",
    "cv_scores_lr = cross_val_score(best_lr, X_train, y_train, cv=10, scoring='f1_macro')\n",
    "print(cv_scores_lr)\n",
    "print(cv_scores_lr.mean())\n",
    "print(cv_scores_lr.std())             "
   ]
  },
  {
   "cell_type": "markdown",
   "id": "2434d32d",
   "metadata": {},
   "source": [
    "#### hold-out method to evaluate the classification performance"
   ]
  },
  {
   "cell_type": "code",
   "execution_count": 24,
   "id": "95f05b27",
   "metadata": {},
   "outputs": [
    {
     "name": "stdout",
     "output_type": "stream",
     "text": [
      "              precision    recall  f1-score   support\n",
      "\n",
      "        high       0.65      0.69      0.67       133\n",
      "         low       0.67      0.63      0.65       132\n",
      "\n",
      "    accuracy                           0.66       265\n",
      "   macro avg       0.66      0.66      0.66       265\n",
      "weighted avg       0.66      0.66      0.66       265\n",
      "\n"
     ]
    }
   ],
   "source": [
    "best_lr.fit(X_train, y_train)\n",
    "lr_pred = best_lr.predict(X_test)\n",
    "print(classification_report(y_test, lr_pred))"
   ]
  },
  {
   "cell_type": "markdown",
   "id": "e3650bb8",
   "metadata": {},
   "source": [
    "#### 2) Decision Tree \n",
    "#### 10-fold gridsearch cv to fine tune the hyperparameters"
   ]
  },
  {
   "cell_type": "code",
   "execution_count": 95,
   "id": "6779d101",
   "metadata": {},
   "outputs": [
    {
     "name": "stdout",
     "output_type": "stream",
     "text": [
      "Fitting 10 folds for each of 27 candidates, totalling 270 fits\n",
      "best score: 0.5996798148741224\n",
      "best params: {'decisiontreeclassifier__criterion': 'gini', 'decisiontreeclassifier__max_depth': 20}\n"
     ]
    }
   ],
   "source": [
    "dt = make_pipeline(OneHotEncoder(),\n",
    "                   DecisionTreeClassifier(class_weight='balanced', random_state=42))\n",
    "\n",
    "dt_param_grid={'decisiontreeclassifier__criterion': ['gini', 'entropy', 'log_loss'],\n",
    "               'decisiontreeclassifier__max_depth': [20, 30, 40, 50, 60, 70, 80, 90, 100]}\n",
    "\n",
    "dt_gs = GridSearchCV(dt, dt_param_grid, cv=10, scoring='f1_macro', n_jobs=-1, verbose=1, refit=True)\n",
    "dt_gs.fit(X_train, y_train)\n",
    "\n",
    "print(f\"best score: {dt_gs.best_score_}\")\n",
    "print(f\"best params: {dt_gs.best_params_}\")"
   ]
  },
  {
   "cell_type": "markdown",
   "id": "a568d994",
   "metadata": {},
   "source": [
    "#### 10-fold cv to make sure the model is not overfitting"
   ]
  },
  {
   "cell_type": "code",
   "execution_count": 96,
   "id": "6bfb0116",
   "metadata": {},
   "outputs": [
    {
     "name": "stdout",
     "output_type": "stream",
     "text": [
      "[0.575      0.57473421 0.66117647 0.58201058 0.61970475 0.58227848\n",
      " 0.51891026 0.67083333 0.6817083  0.53044177]\n",
      "0.5996798148741224\n",
      "0.053979946062069885\n"
     ]
    }
   ],
   "source": [
    "best_dt = dt_gs.best_estimator_\n",
    "\n",
    "cv_scores_dt = cross_val_score(best_dt, X_train, y_train, cv=10, scoring='f1_macro')\n",
    "print(cv_scores_dt)\n",
    "print(cv_scores_dt.mean())\n",
    "print(cv_scores_dt.std())     "
   ]
  },
  {
   "cell_type": "markdown",
   "id": "d9259c32",
   "metadata": {},
   "source": [
    "#### hold-out method to evaluate the classification performance"
   ]
  },
  {
   "cell_type": "code",
   "execution_count": 97,
   "id": "5317ff41",
   "metadata": {},
   "outputs": [
    {
     "name": "stdout",
     "output_type": "stream",
     "text": [
      "              precision    recall  f1-score   support\n",
      "\n",
      "        high       0.65      0.70      0.67       133\n",
      "         low       0.67      0.62      0.65       132\n",
      "\n",
      "    accuracy                           0.66       265\n",
      "   macro avg       0.66      0.66      0.66       265\n",
      "weighted avg       0.66      0.66      0.66       265\n",
      "\n"
     ]
    }
   ],
   "source": [
    "best_dt.fit(X_train, y_train)\n",
    "dt_pred = best_dt.predict(X_test)\n",
    "print(classification_report(y_test, dt_pred))"
   ]
  },
  {
   "cell_type": "markdown",
   "id": "a3fe1b34",
   "metadata": {},
   "source": [
    "#### 3) Random Forest \n",
    "#### 10-fold gridsearch cv to fine tune the hyperparameters"
   ]
  },
  {
   "cell_type": "code",
   "execution_count": 13,
   "id": "5bc96ad9",
   "metadata": {},
   "outputs": [
    {
     "name": "stdout",
     "output_type": "stream",
     "text": [
      "Fitting 10 folds for each of 27 candidates, totalling 270 fits\n",
      "best score: 0.6779781570275891\n",
      "best params: {'randomforestclassifier__criterion': 'entropy', 'randomforestclassifier__max_depth': 30, 'randomforestclassifier__n_estimators': 150}\n"
     ]
    }
   ],
   "source": [
    "rf = make_pipeline(OneHotEncoder(),\n",
    "                   RandomForestClassifier(class_weight='balanced', random_state=42))\n",
    "\n",
    "rf_param_grid={'randomforestclassifier__n_estimators': [150, 300, 500],\n",
    "               'randomforestclassifier__criterion': ['gini', 'entropy', 'log_loss'],\n",
    "               'randomforestclassifier__max_depth': [30, 40, 50]}\n",
    "\n",
    "rf_gs = GridSearchCV(rf, rf_param_grid, cv=10, scoring='f1_macro', n_jobs=-1, verbose=1, refit=True)\n",
    "rf_gs.fit(X_train, y_train)\n",
    "\n",
    "print(f\"best score: {rf_gs.best_score_}\")\n",
    "print(f\"best params: {rf_gs.best_params_}\")"
   ]
  },
  {
   "cell_type": "markdown",
   "id": "69327bb6",
   "metadata": {},
   "source": [
    "#### 10-fold cv to make sure the model is not overfitting"
   ]
  },
  {
   "cell_type": "code",
   "execution_count": 14,
   "id": "430636d8",
   "metadata": {},
   "outputs": [
    {
     "name": "stdout",
     "output_type": "stream",
     "text": [
      "[0.71028185 0.63744335 0.64912281 0.73417722 0.65800866 0.61970475\n",
      " 0.64505777 0.69615385 0.81012658 0.61970475]\n",
      "0.6779781570275891\n",
      "0.057223456006918305\n"
     ]
    }
   ],
   "source": [
    "best_rf = rf_gs.best_estimator_\n",
    "\n",
    "cv_scores_rf = cross_val_score(best_rf, X_train, y_train, cv=10, scoring='f1_macro')\n",
    "print(cv_scores_rf)\n",
    "print(cv_scores_rf.mean())\n",
    "print(cv_scores_rf.std())     "
   ]
  },
  {
   "cell_type": "markdown",
   "id": "fe36b753",
   "metadata": {},
   "source": [
    "#### hold-out method to evaluate the classification model"
   ]
  },
  {
   "cell_type": "code",
   "execution_count": 39,
   "id": "5aa97659",
   "metadata": {},
   "outputs": [
    {
     "name": "stdout",
     "output_type": "stream",
     "text": [
      "              precision    recall  f1-score   support\n",
      "\n",
      "        high       0.74      0.77      0.75       133\n",
      "         low       0.76      0.73      0.74       132\n",
      "\n",
      "    accuracy                           0.75       265\n",
      "   macro avg       0.75      0.75      0.75       265\n",
      "weighted avg       0.75      0.75      0.75       265\n",
      "\n"
     ]
    }
   ],
   "source": [
    "best_rf.fit(X_train, y_train)\n",
    "rf_pred = best_rf.predict(X_test)\n",
    "print(classification_report(y_test, rf_pred))"
   ]
  },
  {
   "cell_type": "markdown",
   "id": "d9595493",
   "metadata": {},
   "source": [
    "#### Feature importance"
   ]
  },
  {
   "cell_type": "code",
   "execution_count": 37,
   "id": "515a9fae",
   "metadata": {},
   "outputs": [
    {
     "name": "stdout",
     "output_type": "stream",
     "text": [
      "Pipeline(steps=[('onehotencoder', OneHotEncoder()),\n",
      "                ('randomforestclassifier',\n",
      "                 RandomForestClassifier(class_weight='balanced',\n",
      "                                        criterion='entropy', max_depth=30,\n",
      "                                        n_estimators=150, random_state=42))])\n"
     ]
    }
   ],
   "source": [
    "print(best_rf)"
   ]
  },
  {
   "cell_type": "code",
   "execution_count": 30,
   "id": "8655ebc0",
   "metadata": {},
   "outputs": [
    {
     "name": "stdout",
     "output_type": "stream",
     "text": [
      "Feature: jinghua_0.0, Importance: 0.025078873640772856\n",
      "Feature: jinghua_1.0, Importance: 0.024306390073965047\n",
      "Feature: zhiliao_0.0, Importance: 0.02046640596624988\n",
      "Feature: shanxian_0.0, Importance: 0.01958996099798583\n",
      "Feature: zhiliao_1.0, Importance: 0.019122027737437507\n",
      "Feature: shanxian_1.0, Importance: 0.018660190237283093\n",
      "Feature: jipao_1.0, Importance: 0.018059653513364284\n",
      "Feature: PositionLeastPlay_5, Importance: 0.01803829082249633\n",
      "Feature: jipao_0.0, Importance: 0.016972490559029454\n",
      "Feature: zhongjie_1.0, Importance: 0.01692893334100542\n",
      "Feature: ganrao_0.0, Importance: 0.016732256743207233\n",
      "Feature: kuangbao_0.0, Importance: 0.016469168636820124\n",
      "Feature: yunxuan_0.0, Importance: 0.016435668292505343\n",
      "Feature: zhongjie_0.0, Importance: 0.01642872759940945\n",
      "Feature: yunxuan_1.0, Importance: 0.016026125875047002\n",
      "Feature: LeastFavoritePosition_5, Importance: 0.015889316271694202\n",
      "Feature: chengjie_1.0, Importance: 0.01558097301870223\n",
      "Feature: chengjie_0.0, Importance: 0.01512439220169548\n",
      "Feature: kuangbao_1.0, Importance: 0.01503756440332355\n",
      "Feature: ganrao_1.0, Importance: 0.014744443636129952\n",
      "Feature: LeastFavoriteRole_3, Importance: 0.014136159083169843\n",
      "Feature: LeastFavoriteRole_2, Importance: 0.013996840939840369\n",
      "Feature: WorstRole_5, Importance: 0.013757384271903164\n",
      "Feature: WorstPosition_4, Importance: 0.01366953345122962\n",
      "Feature: WorstPosition_5, Importance: 0.013411271879861934\n",
      "Feature: LeastFavoriteRole_5, Importance: 0.013279039643553812\n",
      "Feature: WorstRole_2, Importance: 0.01271560211768265\n",
      "Feature: LeastFavoritePosition_4, Importance: 0.012588046236011613\n",
      "Feature: RoleLeastPlay_5, Importance: 0.012500464821662536\n",
      "Feature: PositionLeastPlay_4, Importance: 0.012318631541623893\n",
      "Feature: RoleLeastPlay_2, Importance: 0.012218279389102261\n",
      "Feature: LeastFavoritePosition_1, Importance: 0.012001550190879675\n",
      "Feature: RoleLeastPlay_3, Importance: 0.011952255594014336\n",
      "Feature: FavoritePosition_2, Importance: 0.01166518039753688\n",
      "Feature: RoleLeastPlay_6, Importance: 0.011443422147644336\n",
      "Feature: BestPosition_2, Importance: 0.011278082971931426\n",
      "Feature: WorstRole_3, Importance: 0.011185784195611564\n",
      "Feature: RoleMostPlay_2, Importance: 0.010881557392144746\n",
      "Feature: WorstPosition_1, Importance: 0.010844982027336627\n",
      "Feature: LeastFavoriteRole_6, Importance: 0.010709926783887819\n",
      "Feature: BestPosition_4, Importance: 0.01062272668756424\n",
      "Feature: PositionLeastPlay_1, Importance: 0.010514597637667523\n",
      "Feature: PositionMostPlay_2, Importance: 0.010446302591510127\n",
      "Feature: RoleMostPlay_1, Importance: 0.010309039250579589\n",
      "Feature: LeastFavoritePosition_3, Importance: 0.010148316029799933\n",
      "Feature: FavouriteRole_4, Importance: 0.010095100154585637\n",
      "Feature: FavouriteRole_1, Importance: 0.010092106434594395\n",
      "Feature: PositionMostPlay_4, Importance: 0.010014351140373261\n",
      "Feature: WorstRole_6, Importance: 0.009951361131180208\n",
      "Feature: WorstPosition_3, Importance: 0.009861954842378425\n",
      "Feature: RoleMostPlay_4, Importance: 0.009759701796258376\n",
      "Feature: PositionLeastPlay_2, Importance: 0.009461104674551333\n",
      "Feature: BestRole_1, Importance: 0.009430727827752701\n",
      "Feature: BestPosition_1, Importance: 0.009410852237477613\n",
      "Feature: FavoritePosition_4, Importance: 0.009268567065998577\n",
      "Feature: RoleMostPlay_3, Importance: 0.009212532717276213\n",
      "Feature: PositionLeastPlay_3, Importance: 0.009196810058438165\n",
      "Feature: ruohua_1.0, Importance: 0.00910274589787481\n",
      "Feature: WorstPosition_2, Importance: 0.008982597330379477\n",
      "Feature: PositionMostPlay_1, Importance: 0.008957128343654404\n",
      "Feature: FavouriteRole_2, Importance: 0.008915992457033511\n",
      "Feature: FavoritePosition_3, Importance: 0.008865549819048137\n",
      "Feature: LeastFavoritePosition_2, Importance: 0.008818621282037137\n",
      "Feature: PositionMostPlay_5, Importance: 0.008713115899926818\n",
      "Feature: BestRole_4, Importance: 0.008558986506553437\n",
      "Feature: FavouriteRole_6, Importance: 0.008545354876642217\n",
      "Feature: BestRole_2, Importance: 0.00850543674035528\n",
      "Feature: PositionMostPlay_3, Importance: 0.008434881806356613\n",
      "Feature: RoleLeastPlay_4, Importance: 0.008419404106072843\n",
      "Feature: RoleMostPlay_6, Importance: 0.008354102314019668\n",
      "Feature: ruohua_0.0, Importance: 0.008348745071739796\n",
      "Feature: BestPosition_3, Importance: 0.008258220494628528\n",
      "Feature: FavoritePosition_1, Importance: 0.008251533643150117\n",
      "Feature: LeastFavoriteRole_4, Importance: 0.008188172179223008\n",
      "Feature: BestRole_5, Importance: 0.008066137656164521\n",
      "Feature: BestRole_6, Importance: 0.008065445836806538\n",
      "Feature: FavoritePosition_5, Importance: 0.007758160117735754\n",
      "Feature: RoleMostPlay_5, Importance: 0.007601757669305709\n",
      "Feature: FavouriteRole_3, Importance: 0.007485263782007314\n",
      "Feature: FavouriteRole_5, Importance: 0.007422740309170714\n",
      "Feature: WorstRole_4, Importance: 0.007098086104237544\n",
      "Feature: WorstRole_1, Importance: 0.0070245641431634556\n",
      "Feature: BestPosition_5, Importance: 0.006710841327693737\n",
      "Feature: RoleLeastPlay_1, Importance: 0.005694890266672689\n",
      "Feature: BestRole_3, Importance: 0.00546068439614549\n",
      "Feature: LeastFavoriteRole_1, Importance: 0.005348838699461066\n"
     ]
    }
   ],
   "source": [
    "# Get the feature importance from the RandomForestClassifier object\n",
    "classifier = best_rf.steps[1][1]\n",
    "feature_importance = classifier.feature_importances_\n",
    "\n",
    "# Sort the feature importance in descending order\n",
    "sorted_idx = feature_importance.argsort()[::-1]\n",
    "\n",
    "# Get the original feature names and the corresponding one-hot encoded indices\n",
    "encoder = best_rf.steps[0][1]\n",
    "encoded_feature_names = encoder.get_feature_names(input_features=X.columns)\n",
    "\n",
    "# Print the feature importance of the encoded features\n",
    "for idx in sorted_idx:\n",
    "    print(f\"Feature: {encoded_feature_names[idx]}, \"\n",
    "          f\"Importance: {feature_importance[idx]}\")"
   ]
  },
  {
   "cell_type": "code",
   "execution_count": 33,
   "id": "a28589fa",
   "metadata": {},
   "outputs": [
    {
     "data": {
      "image/png": "[encoded data removed]",
      "text/plain": [
       "<Figure size 720x1296 with 1 Axes>"
      ]
     },
     "metadata": {
      "needs_background": "light"
     },
     "output_type": "display_data"
    }
   ],
   "source": [
    "# Plot the feature importance of the encoded features in a bar plot\n",
    "plt.figure(figsize=(10,18))\n",
    "plt.barh(encoded_feature_names, feature_importance)\n",
    "plt.xlabel('Feature Importance')\n",
    "plt.ylabel('Encoded Feature Names')\n",
    "plt.title('Feature Importance of RF Model Predicting Neuroticism');"
   ]
  },
  {
   "cell_type": "markdown",
   "id": "deb28f8e",
   "metadata": {},
   "source": [
    "#### 4) KNN \n",
    "#### 10-fold gridsearch cv to fine tune hyperparameters"
   ]
  },
  {
   "cell_type": "code",
   "execution_count": 101,
   "id": "1246189a",
   "metadata": {},
   "outputs": [
    {
     "name": "stdout",
     "output_type": "stream",
     "text": [
      "Fitting 10 folds for each of 44 candidates, totalling 440 fits\n",
      "best score: 0.6440709263929559\n",
      "best params: {'kneighborsclassifier__algorithm': 'auto', 'kneighborsclassifier__n_neighbors': 8}\n"
     ]
    }
   ],
   "source": [
    "knn = make_pipeline(OneHotEncoder(),\n",
    "                    KNeighborsClassifier())\n",
    "\n",
    "knn_param_grid={'kneighborsclassifier__n_neighbors': [1, 2, 3, 4, 5, 6, 7, 8, 9, 10, 20],\n",
    "                'kneighborsclassifier__algorithm': ['auto', 'ball_tree', 'kd_tree', 'brute']}\n",
    "\n",
    "knn_gs = GridSearchCV(knn, knn_param_grid, cv=10, scoring='f1_macro', n_jobs=-1, verbose=1, refit=True)\n",
    "knn_gs.fit(X_train, y_train)\n",
    "\n",
    "print(f\"best score: {knn_gs.best_score_}\")\n",
    "print(f\"best params: {knn_gs.best_params_}\")"
   ]
  },
  {
   "cell_type": "markdown",
   "id": "6ee81c24",
   "metadata": {},
   "source": [
    "#### 10-fold cv to make sure the model is not overfitting"
   ]
  },
  {
   "cell_type": "code",
   "execution_count": 102,
   "id": "5f1e0c2c",
   "metadata": {},
   "outputs": [
    {
     "name": "stdout",
     "output_type": "stream",
     "text": [
      "[0.66244726 0.60753284 0.72482802 0.63267597 0.67041078 0.64505777\n",
      " 0.51518088 0.67083333 0.67083333 0.64090909]\n",
      "0.6440709263929559\n",
      "0.05203280768796885\n"
     ]
    }
   ],
   "source": [
    "best_knn = knn_gs.best_estimator_\n",
    "\n",
    "cv_scores_knn = cross_val_score(best_knn, X_train, y_train, cv=10, scoring='f1_macro')\n",
    "print(cv_scores_knn)\n",
    "print(cv_scores_knn.mean())\n",
    "print(cv_scores_knn.std()) "
   ]
  },
  {
   "cell_type": "markdown",
   "id": "6362e1a8",
   "metadata": {},
   "source": [
    "#### hold-out method to evaluate the classification model"
   ]
  },
  {
   "cell_type": "code",
   "execution_count": 103,
   "id": "94c9c0aa",
   "metadata": {},
   "outputs": [
    {
     "name": "stdout",
     "output_type": "stream",
     "text": [
      "              precision    recall  f1-score   support\n",
      "\n",
      "        high       0.65      0.77      0.71       133\n",
      "         low       0.72      0.59      0.65       132\n",
      "\n",
      "    accuracy                           0.68       265\n",
      "   macro avg       0.68      0.68      0.68       265\n",
      "weighted avg       0.68      0.68      0.68       265\n",
      "\n"
     ]
    }
   ],
   "source": [
    "best_knn.fit(X_train, y_train)\n",
    "knn_pred = best_knn.predict(X_test)\n",
    "print(classification_report(y_test, knn_pred))"
   ]
  },
  {
   "cell_type": "markdown",
   "id": "739a4b6c",
   "metadata": {},
   "source": [
    "#### 5) SVM \n",
    "#### 10-fold gridsearch cv to fine tune the hyperparameters"
   ]
  },
  {
   "cell_type": "code",
   "execution_count": 104,
   "id": "688b4411",
   "metadata": {},
   "outputs": [
    {
     "name": "stdout",
     "output_type": "stream",
     "text": [
      "Fitting 10 folds for each of 20 candidates, totalling 200 fits\n",
      "best score: 0.6738974956399268\n",
      "best params: {'svc__C': 0.1, 'svc__kernel': 'poly'}\n"
     ]
    }
   ],
   "source": [
    "svm = make_pipeline(OneHotEncoder(),\n",
    "                    SVC(class_weight='balanced', random_state=42))\n",
    "\n",
    "svm_param_grid={'svc__kernel': ['linear', 'rbf', 'poly','sigmoid'],\n",
    "                'svc__C': [0.01, 0.1, 1.0, 10, 100]}\n",
    "\n",
    "svm_gs = GridSearchCV(svm, svm_param_grid, cv=10, scoring='f1_macro', n_jobs=-1, verbose=1, refit=True)\n",
    "svm_gs.fit(X_train, y_train)\n",
    "\n",
    "print(f\"best score: {svm_gs.best_score_}\")\n",
    "print(f\"best params: {svm_gs.best_params_}\")"
   ]
  },
  {
   "cell_type": "markdown",
   "id": "6d25a5a5",
   "metadata": {},
   "source": [
    "#### 10-fold cv to make sure the model is not overfitting"
   ]
  },
  {
   "cell_type": "code",
   "execution_count": 105,
   "id": "a3e406bb",
   "metadata": {},
   "outputs": [
    {
     "name": "stdout",
     "output_type": "stream",
     "text": [
      "[0.6969697  0.64978111 0.66244726 0.70886076 0.72111682 0.56788932\n",
      " 0.60759494 0.72147436 0.74483204 0.65800866]\n",
      "0.6738974956399268\n",
      "0.05280020297200141\n"
     ]
    }
   ],
   "source": [
    "best_svm = svm_gs.best_estimator_\n",
    "\n",
    "cv_scores_svm = cross_val_score(best_svm, X_train, y_train, cv=10, scoring='f1_macro')\n",
    "print(cv_scores_svm)\n",
    "print(cv_scores_svm.mean())\n",
    "print(cv_scores_svm.std()) "
   ]
  },
  {
   "cell_type": "markdown",
   "id": "863fe2aa",
   "metadata": {},
   "source": [
    "#### hold-out method to evaluate the classification model"
   ]
  },
  {
   "cell_type": "code",
   "execution_count": 106,
   "id": "9a6716a0",
   "metadata": {},
   "outputs": [
    {
     "name": "stdout",
     "output_type": "stream",
     "text": [
      "              precision    recall  f1-score   support\n",
      "\n",
      "        high       0.73      0.72      0.72       133\n",
      "         low       0.72      0.73      0.72       132\n",
      "\n",
      "    accuracy                           0.72       265\n",
      "   macro avg       0.72      0.72      0.72       265\n",
      "weighted avg       0.72      0.72      0.72       265\n",
      "\n"
     ]
    }
   ],
   "source": [
    "best_svm.fit(X_train, y_train)\n",
    "svm_pred = best_svm.predict(X_test)\n",
    "print(classification_report(y_test, svm_pred))"
   ]
  },
  {
   "cell_type": "code",
   "execution_count": null,
   "id": "4e5673f6",
   "metadata": {},
   "outputs": [],
   "source": []
  },
  {
   "cell_type": "markdown",
   "id": "4e97ca6e",
   "metadata": {},
   "source": [
    "### 2.2 Extraversion"
   ]
  },
  {
   "cell_type": "markdown",
   "id": "7b384489",
   "metadata": {},
   "source": [
    "#### 2.2.1 Split data"
   ]
  },
  {
   "cell_type": "code",
   "execution_count": 52,
   "id": "2ffaa4a5",
   "metadata": {},
   "outputs": [
    {
     "data": {
      "text/plain": [
       "((793, 22), (265, 22), (793,), (265,))"
      ]
     },
     "execution_count": 52,
     "metadata": {},
     "output_type": "execute_result"
    }
   ],
   "source": [
    "X2 = data[['FavouriteRole', 'LeastFavoriteRole', 'RoleMostPlay', 'RoleLeastPlay', 'BestRole','WorstRole',\n",
    "  'FavoritePosition', 'LeastFavoritePosition', 'BestPosition','WorstPosition','PositionMostPlay','PositionLeastPlay', \n",
    " 'chengjie', 'zhongjie', 'kuangbao', 'jipao', 'zhiliao', 'ganrao', 'yunxuan', 'jinghua', 'ruohua', 'shanxian']]\n",
    "y2 = data['Extraversion']\n",
    "\n",
    "X_train2, X_test2, y_train2, y_test2 = train_test_split(X2, y2, test_size=0.25, stratify=y2, random_state=42, shuffle=True,)\n",
    "X_train2.shape, X_test2.shape, y_train2.shape, y_test2.shape"
   ]
  },
  {
   "cell_type": "markdown",
   "id": "3889ce69",
   "metadata": {},
   "source": [
    "#### 2.2.2 Baseline model"
   ]
  },
  {
   "cell_type": "markdown",
   "id": "d2c7e298",
   "metadata": {},
   "source": [
    "#### most_frequent"
   ]
  },
  {
   "cell_type": "code",
   "execution_count": 14,
   "id": "def8d7ce",
   "metadata": {},
   "outputs": [
    {
     "name": "stdout",
     "output_type": "stream",
     "text": [
      "0.5006305170239597\n",
      "0.33417085427135673\n"
     ]
    }
   ],
   "source": [
    "dummy2 = DummyClassifier(strategy=\"most_frequent\", random_state=42)\n",
    "dummy2.fit(X_train2, y_train2)\n",
    "accuracy2 = dummy2.score(X_train2, y_train2)\n",
    "print(accuracy2)\n",
    "\n",
    "y_pred2 = dummy2.predict(X_test2)\n",
    "f1_2 = f1_score(y_test2, y_pred2, average='macro')\n",
    "print(f1_2)"
   ]
  },
  {
   "cell_type": "markdown",
   "id": "90ceb0bd",
   "metadata": {},
   "source": [
    "#### 2.2.3 Model performance comparison (evaluation metric: macro F1 score)"
   ]
  },
  {
   "cell_type": "markdown",
   "id": "d00dfabc",
   "metadata": {},
   "source": [
    "#### 1) LogisticRegression \n",
    "#### 10-fold gridsearch cv to fine tune the hyperparameters"
   ]
  },
  {
   "cell_type": "code",
   "execution_count": 111,
   "id": "0731aee5",
   "metadata": {},
   "outputs": [
    {
     "name": "stdout",
     "output_type": "stream",
     "text": [
      "Fitting 10 folds for each of 20 candidates, totalling 200 fits\n",
      "best score: 0.65053965680051\n",
      "best params: {'logisticregression__C': 0.01, 'logisticregression__solver': 'sag'}\n"
     ]
    }
   ],
   "source": [
    "lr2 = make_pipeline(OneHotEncoder(),\n",
    "                    LogisticRegression(class_weight='balanced', random_state=42))\n",
    "\n",
    "lr_param_grid2={'logisticregression__C': [0.01, 0.1, 1.0, 10, 100],\n",
    "               'logisticregression__solver': ['newton-cg', 'sag', 'saga','lbfgs']}\n",
    "\n",
    "lr_gs2 = GridSearchCV(lr2, lr_param_grid2, cv=10, scoring='f1_macro', n_jobs=-1, verbose=1, refit=True)\n",
    "lr_gs2.fit(X_train2, y_train2)\n",
    "\n",
    "print(f\"best score: {lr_gs2.best_score_}\")\n",
    "print(f\"best params: {lr_gs2.best_params_}\")"
   ]
  },
  {
   "cell_type": "markdown",
   "id": "f8f70f02",
   "metadata": {},
   "source": [
    "#### 10-fold cv to make sure the model is not overfitting"
   ]
  },
  {
   "cell_type": "code",
   "execution_count": 112,
   "id": "27b305aa",
   "metadata": {},
   "outputs": [
    {
     "name": "stdout",
     "output_type": "stream",
     "text": [
      "[0.66202472 0.63744335 0.53742772 0.59435173 0.77211538 0.63196787\n",
      " 0.67083333 0.64505777 0.68334135 0.67083333]\n",
      "0.65053965680051\n",
      "0.05771485936601648\n"
     ]
    }
   ],
   "source": [
    "best_lr2 = lr_gs.best_estimator_\n",
    "\n",
    "cv_scores_lr2 = cross_val_score(best_lr2, X_train2, y_train2, cv=10, scoring='f1_macro')\n",
    "print(cv_scores_lr2)\n",
    "print(cv_scores_lr2.mean())\n",
    "print(cv_scores_lr2.std()) "
   ]
  },
  {
   "cell_type": "markdown",
   "id": "3195a058",
   "metadata": {},
   "source": [
    "#### hold-out method to evaluate the classification model"
   ]
  },
  {
   "cell_type": "code",
   "execution_count": 113,
   "id": "ac6753a6",
   "metadata": {},
   "outputs": [
    {
     "name": "stdout",
     "output_type": "stream",
     "text": [
      "              precision    recall  f1-score   support\n",
      "\n",
      "        high       0.66      0.61      0.63       133\n",
      "         low       0.63      0.68      0.66       132\n",
      "\n",
      "    accuracy                           0.65       265\n",
      "   macro avg       0.65      0.65      0.64       265\n",
      "weighted avg       0.65      0.65      0.64       265\n",
      "\n"
     ]
    }
   ],
   "source": [
    "best_lr2.fit(X_train2, y_train2)\n",
    "lr2_pred = best_lr2.predict(X_test2)\n",
    "print(classification_report(y_test2, lr2_pred))"
   ]
  },
  {
   "cell_type": "markdown",
   "id": "46c5317e",
   "metadata": {},
   "source": [
    "#### 2) DecisionTree \n",
    "#### 10-fold gridsearch cv to fine tune the hyperparameters"
   ]
  },
  {
   "cell_type": "code",
   "execution_count": 114,
   "id": "5ab048c2",
   "metadata": {},
   "outputs": [
    {
     "name": "stdout",
     "output_type": "stream",
     "text": [
      "Fitting 10 folds for each of 27 candidates, totalling 270 fits\n",
      "best score: 0.6259242670119363\n",
      "best params: {'decisiontreeclassifier__criterion': 'gini', 'decisiontreeclassifier__max_depth': 20}\n"
     ]
    }
   ],
   "source": [
    "dt2 = make_pipeline(OneHotEncoder(),\n",
    "                    DecisionTreeClassifier(class_weight='balanced', random_state=42))\n",
    "\n",
    "dt_param_grid2={'decisiontreeclassifier__criterion': ['gini', 'entropy', 'log_loss'],\n",
    "               'decisiontreeclassifier__max_depth': [20, 30, 40, 50, 60, 70, 80, 90, 100]}\n",
    "\n",
    "dt_gs2 = GridSearchCV(dt2, dt_param_grid2, cv=10, scoring='f1_macro', n_jobs=-1, verbose=1, refit=True)\n",
    "dt_gs2.fit(X_train2, y_train2)\n",
    "\n",
    "print(f\"best score: {dt_gs2.best_score_}\")\n",
    "print(f\"best params: {dt_gs2.best_params_}\")"
   ]
  },
  {
   "cell_type": "markdown",
   "id": "e74ec0ba",
   "metadata": {},
   "source": [
    "#### 10-fold cv to make sure the model is not overfitting"
   ]
  },
  {
   "cell_type": "code",
   "execution_count": 115,
   "id": "49dcc5b1",
   "metadata": {},
   "outputs": [
    {
     "name": "stdout",
     "output_type": "stream",
     "text": [
      "[0.55912455 0.71137255 0.51181349 0.63291139 0.7588755  0.6127451\n",
      " 0.63196787 0.5497476  0.58201058 0.70867404]\n",
      "0.6259242670119363\n",
      "0.07569595084018643\n"
     ]
    }
   ],
   "source": [
    "best_dt2 = dt_gs.best_estimator_\n",
    "\n",
    "cv_scores_dt2 = cross_val_score(best_dt2, X_train2, y_train2, cv=10, scoring='f1_macro')\n",
    "print(cv_scores_dt2)\n",
    "print(cv_scores_dt2.mean())\n",
    "print(cv_scores_dt2.std()) "
   ]
  },
  {
   "cell_type": "markdown",
   "id": "e416e346",
   "metadata": {},
   "source": [
    "#### hold-out method to evaluate the classification model"
   ]
  },
  {
   "cell_type": "code",
   "execution_count": 116,
   "id": "90a3aa1b",
   "metadata": {},
   "outputs": [
    {
     "name": "stdout",
     "output_type": "stream",
     "text": [
      "              precision    recall  f1-score   support\n",
      "\n",
      "        high       0.58      0.63      0.60       133\n",
      "         low       0.59      0.54      0.56       132\n",
      "\n",
      "    accuracy                           0.58       265\n",
      "   macro avg       0.59      0.58      0.58       265\n",
      "weighted avg       0.59      0.58      0.58       265\n",
      "\n"
     ]
    }
   ],
   "source": [
    "best_dt2.fit(X_train2, y_train2)\n",
    "dt2_pred = best_dt2.predict(X_test2)\n",
    "print(classification_report(y_test2, dt2_pred))"
   ]
  },
  {
   "cell_type": "markdown",
   "id": "ea6b0e00",
   "metadata": {},
   "source": [
    "#### 3) RandomForest \n",
    "#### 10-fold gridsearch cv to fine tune the hyperparameters"
   ]
  },
  {
   "cell_type": "code",
   "execution_count": 117,
   "id": "49f2335d",
   "metadata": {},
   "outputs": [
    {
     "name": "stdout",
     "output_type": "stream",
     "text": [
      "Fitting 10 folds for each of 27 candidates, totalling 270 fits\n",
      "best score: 0.6489317880728768\n",
      "best params: {'randomforestclassifier__criterion': 'gini', 'randomforestclassifier__max_depth': 30, 'randomforestclassifier__n_estimators': 150}\n"
     ]
    }
   ],
   "source": [
    "rf2 = make_pipeline(OneHotEncoder(),\n",
    "                    RandomForestClassifier(class_weight='balanced', random_state=42))\n",
    "\n",
    "rf_param_grid2={'randomforestclassifier__n_estimators': [150, 300, 500],\n",
    "               'randomforestclassifier__criterion': ['gini', 'entropy', 'log_loss'],\n",
    "               'randomforestclassifier__max_depth': [30, 40, 50]}\n",
    "\n",
    "rf_gs2 = GridSearchCV(rf2, rf_param_grid2, cv=10, scoring='f1_macro', n_jobs=-1, verbose=1, refit=True)\n",
    "rf_gs2.fit(X_train2, y_train2)\n",
    "\n",
    "print(f\"best score: {rf_gs2.best_score_}\")\n",
    "print(f\"best params: {rf_gs2.best_params_}\")"
   ]
  },
  {
   "cell_type": "markdown",
   "id": "4f3b9a0b",
   "metadata": {},
   "source": [
    "#### 10-fold cv to make sure the model is not overfitting"
   ]
  },
  {
   "cell_type": "code",
   "execution_count": 118,
   "id": "c551304c",
   "metadata": {},
   "outputs": [
    {
     "name": "stdout",
     "output_type": "stream",
     "text": [
      "[0.68745116 0.61195431 0.57473421 0.61872587 0.70867404 0.6817083\n",
      " 0.60734327 0.58201058 0.73417722 0.58227848]\n",
      "0.6389057446589013\n",
      "0.055519793009980105\n"
     ]
    }
   ],
   "source": [
    "best_rf2 = rf_gs.best_estimator_ \n",
    "\n",
    "cv_scores_rf2 = cross_val_score(best_rf2, X_train2, y_train2, cv=10, scoring='f1_macro')\n",
    "print(cv_scores_rf2)\n",
    "print(cv_scores_rf2.mean())\n",
    "print(cv_scores_rf2.std()) "
   ]
  },
  {
   "cell_type": "markdown",
   "id": "acf98d38",
   "metadata": {},
   "source": [
    "#### hold-out method to evaluate the classification model"
   ]
  },
  {
   "cell_type": "code",
   "execution_count": 119,
   "id": "46fa1acf",
   "metadata": {},
   "outputs": [
    {
     "name": "stdout",
     "output_type": "stream",
     "text": [
      "              precision    recall  f1-score   support\n",
      "\n",
      "        high       0.64      0.62      0.63       133\n",
      "         low       0.63      0.65      0.64       132\n",
      "\n",
      "    accuracy                           0.63       265\n",
      "   macro avg       0.63      0.63      0.63       265\n",
      "weighted avg       0.63      0.63      0.63       265\n",
      "\n"
     ]
    }
   ],
   "source": [
    "best_rf2.fit(X_train2, y_train2)\n",
    "rf2_pred = best_rf2.predict(X_test2)\n",
    "print(classification_report(y_test2, rf2_pred))"
   ]
  },
  {
   "cell_type": "markdown",
   "id": "7a306158",
   "metadata": {},
   "source": [
    "#### 4) KNN \n",
    "#### 10-fold gridsearch cv to fine tune the hyperparameters"
   ]
  },
  {
   "cell_type": "code",
   "execution_count": 120,
   "id": "e6232078",
   "metadata": {},
   "outputs": [
    {
     "name": "stdout",
     "output_type": "stream",
     "text": [
      "Fitting 10 folds for each of 44 candidates, totalling 440 fits\n",
      "best score: 0.650188539930422\n",
      "best params: {'kneighborsclassifier__algorithm': 'auto', 'kneighborsclassifier__n_neighbors': 9}\n"
     ]
    }
   ],
   "source": [
    "knn2 = make_pipeline(OneHotEncoder(),\n",
    "                     KNeighborsClassifier())\n",
    "\n",
    "knn_param_grid2={'kneighborsclassifier__n_neighbors': [1, 2, 3, 4, 5, 6, 7, 8, 9, 10, 20],\n",
    "                'kneighborsclassifier__algorithm': ['auto', 'ball_tree', 'kd_tree', 'brute']}\n",
    "\n",
    "knn_gs2 = GridSearchCV(knn2, knn_param_grid2, cv=10, scoring='f1_macro', n_jobs=-1, verbose=1, refit=True)\n",
    "knn_gs2.fit(X_train2, y_train2)\n",
    "\n",
    "print(f\"best score: {knn_gs2.best_score_}\")\n",
    "print(f\"best params: {knn_gs2.best_params_}\")"
   ]
  },
  {
   "cell_type": "markdown",
   "id": "0b9fa99c",
   "metadata": {},
   "source": [
    "#### 10-fold cv to make sure the model is not overfitting"
   ]
  },
  {
   "cell_type": "code",
   "execution_count": 121,
   "id": "0c5d31d6",
   "metadata": {},
   "outputs": [
    {
     "name": "stdout",
     "output_type": "stream",
     "text": [
      "[0.67316153 0.61098039 0.55689191 0.56873449 0.66828165 0.72039897\n",
      " 0.60968379 0.57795046 0.69615385 0.64414414]\n",
      "0.6326381200675225\n",
      "0.05346874910211918\n"
     ]
    }
   ],
   "source": [
    "best_knn2 = knn_gs.best_estimator_\n",
    "\n",
    "cv_scores_knn2 = cross_val_score(best_knn2, X_train2, y_train2, cv=10, scoring='f1_macro')\n",
    "print(cv_scores_knn2)\n",
    "print(cv_scores_knn2.mean())\n",
    "print(cv_scores_knn2.std()) "
   ]
  },
  {
   "cell_type": "markdown",
   "id": "9796e0a0",
   "metadata": {},
   "source": [
    "#### hold-out method to evaluate the classification model"
   ]
  },
  {
   "cell_type": "code",
   "execution_count": 122,
   "id": "5027d101",
   "metadata": {},
   "outputs": [
    {
     "name": "stdout",
     "output_type": "stream",
     "text": [
      "              precision    recall  f1-score   support\n",
      "\n",
      "        high       0.58      0.71      0.64       133\n",
      "         low       0.62      0.49      0.55       132\n",
      "\n",
      "    accuracy                           0.60       265\n",
      "   macro avg       0.60      0.60      0.60       265\n",
      "weighted avg       0.60      0.60      0.60       265\n",
      "\n"
     ]
    }
   ],
   "source": [
    "best_knn2.fit(X_train2, y_train2)\n",
    "knn2_pred = best_knn2.predict(X_test2)\n",
    "print(classification_report(y_test2, knn2_pred))"
   ]
  },
  {
   "cell_type": "markdown",
   "id": "5ae74a3f",
   "metadata": {},
   "source": [
    "#### 2) SVM \n",
    "#### 10-fold gridsearch cv to fine tune the hyperparameters"
   ]
  },
  {
   "cell_type": "code",
   "execution_count": 45,
   "id": "748e6521",
   "metadata": {},
   "outputs": [
    {
     "name": "stdout",
     "output_type": "stream",
     "text": [
      "Fitting 10 folds for each of 20 candidates, totalling 200 fits\n",
      "best score: 0.6564174979815534\n",
      "best params: {'svc__C': 1.0, 'svc__kernel': 'rbf'}\n"
     ]
    }
   ],
   "source": [
    "svm2 = make_pipeline(OneHotEncoder(),\n",
    "                     SVC(class_weight='balanced', random_state=42))\n",
    "\n",
    "svm_param_grid2={'svc__kernel': ['linear', 'rbf', 'poly','sigmoid'],\n",
    "                'svc__C': [0.01, 0.1, 1.0, 10, 100]}\n",
    "\n",
    "svm_gs2 = GridSearchCV(svm2, svm_param_grid2, cv=10, scoring='f1_macro', n_jobs=-1, verbose=1, refit=True)\n",
    "svm_gs2.fit(X_train2, y_train2)\n",
    "\n",
    "print(f\"best score: {svm_gs2.best_score_}\")\n",
    "print(f\"best params: {svm_gs2.best_params_}\")"
   ]
  },
  {
   "cell_type": "markdown",
   "id": "25684b8a",
   "metadata": {},
   "source": [
    "#### 10-fold CV to make sure the model is not overfitting"
   ]
  },
  {
   "cell_type": "code",
   "execution_count": 47,
   "id": "0d9776cd",
   "metadata": {},
   "outputs": [
    {
     "name": "stdout",
     "output_type": "stream",
     "text": [
      "[0.63744335 0.66117647 0.56243163 0.55667789 0.7974359  0.70717164\n",
      " 0.64551282 0.63196787 0.70811245 0.65624496]\n",
      "0.6564174979815534\n",
      "0.06709341577775756\n"
     ]
    }
   ],
   "source": [
    "best_svm2 = svm_gs2.best_estimator_\n",
    "\n",
    "cv_scores_svm2 = cross_val_score(best_svm2, X_train2, y_train2, cv=10, scoring='f1_macro')\n",
    "print(cv_scores_svm2)\n",
    "print(cv_scores_svm2.mean())\n",
    "print(cv_scores_svm2.std()) "
   ]
  },
  {
   "cell_type": "markdown",
   "id": "e26d36ed",
   "metadata": {},
   "source": [
    "#### hold-out method to evaluate the classification model"
   ]
  },
  {
   "cell_type": "code",
   "execution_count": 48,
   "id": "282b58b6",
   "metadata": {},
   "outputs": [
    {
     "name": "stdout",
     "output_type": "stream",
     "text": [
      "              precision    recall  f1-score   support\n",
      "\n",
      "        high       0.68      0.60      0.64       133\n",
      "         low       0.64      0.72      0.68       132\n",
      "\n",
      "    accuracy                           0.66       265\n",
      "   macro avg       0.66      0.66      0.66       265\n",
      "weighted avg       0.66      0.66      0.66       265\n",
      "\n"
     ]
    }
   ],
   "source": [
    "best_svm2.fit(X_train2, y_train2)\n",
    "svm2_pred = best_svm2.predict(X_test2)\n",
    "print(classification_report(y_test2, svm2_pred))"
   ]
  },
  {
   "cell_type": "code",
   "execution_count": null,
   "id": "165572a6",
   "metadata": {},
   "outputs": [],
   "source": []
  },
  {
   "cell_type": "markdown",
   "id": "af224a5d",
   "metadata": {},
   "source": [
    "### 2.3 Openness"
   ]
  },
  {
   "cell_type": "markdown",
   "id": "6f70f99a",
   "metadata": {},
   "source": [
    "#### 2.3.1 Split data"
   ]
  },
  {
   "cell_type": "code",
   "execution_count": 126,
   "id": "a42adb4f",
   "metadata": {},
   "outputs": [
    {
     "data": {
      "text/plain": [
       "((793, 22), (265, 22), (793,), (265,))"
      ]
     },
     "execution_count": 126,
     "metadata": {},
     "output_type": "execute_result"
    }
   ],
   "source": [
    "X3 = data[['FavouriteRole', 'LeastFavoriteRole', 'RoleMostPlay', 'RoleLeastPlay', 'BestRole','WorstRole',\n",
    "  'FavoritePosition', 'LeastFavoritePosition', 'BestPosition','WorstPosition','PositionMostPlay','PositionLeastPlay', \n",
    " 'chengjie', 'zhongjie', 'kuangbao', 'jipao', 'zhiliao', 'ganrao', 'yunxuan', 'jinghua', 'ruohua', 'shanxian']]\n",
    "\n",
    "y3 = data['Openness']\n",
    "\n",
    "X_train3, X_test3, y_train3, y_test3 = train_test_split(X3, y3, test_size=0.25, stratify=y3, random_state=42, shuffle=True,)\n",
    "X_train3.shape, X_test3.shape, y_train3.shape, y_test3.shape"
   ]
  },
  {
   "cell_type": "markdown",
   "id": "d76b3f21",
   "metadata": {},
   "source": [
    "#### 2.3.2 Baseline model"
   ]
  },
  {
   "cell_type": "code",
   "execution_count": 127,
   "id": "3c5cb904",
   "metadata": {},
   "outputs": [
    {
     "name": "stdout",
     "output_type": "stream",
     "text": [
      "0.544766708701135\n",
      "0.35365853658536583\n"
     ]
    }
   ],
   "source": [
    "dummy3 = DummyClassifier(strategy=\"most_frequent\", random_state=42)\n",
    "dummy3.fit(X_train3, y_train3)\n",
    "accuracy3 = dummy3.score(X_train3, y_train3)\n",
    "print(accuracy3)\n",
    "\n",
    "y_pred3 = dummy3.predict(X_test3)\n",
    "f1_3 = f1_score(y_test3, y_pred3, average='macro')\n",
    "print(f1_3)"
   ]
  },
  {
   "cell_type": "markdown",
   "id": "24f8cdc2",
   "metadata": {},
   "source": [
    "#### 2.3.3 Model performance comparison (evaluation metric: macro F1 score)"
   ]
  },
  {
   "cell_type": "markdown",
   "id": "f27aedbd",
   "metadata": {},
   "source": [
    "#### 1) LogisticRegression \n",
    "#### 10-fold gridsearch cv to fine tune the hyperparameters"
   ]
  },
  {
   "cell_type": "code",
   "execution_count": 128,
   "id": "d6a8a032",
   "metadata": {},
   "outputs": [
    {
     "name": "stdout",
     "output_type": "stream",
     "text": [
      "Fitting 10 folds for each of 20 candidates, totalling 200 fits\n",
      "best score: 0.6296204193486645\n",
      "best params: {'logisticregression__C': 0.01, 'logisticregression__solver': 'sag'}\n"
     ]
    }
   ],
   "source": [
    "lr3 = make_pipeline(OneHotEncoder(),\n",
    "                    LogisticRegression(class_weight='balanced', random_state=42))\n",
    "\n",
    "lr_param_grid3={'logisticregression__C': [0.01, 0.1, 1.0, 10, 100],\n",
    "               'logisticregression__solver': ['newton-cg', 'sag', 'saga','lbfgs']}\n",
    "\n",
    "lr_gs3 = GridSearchCV(lr3, lr_param_grid3, cv=10, scoring='f1_macro', n_jobs=-1, verbose=1, refit=True)\n",
    "lr_gs3.fit(X_train3, y_train3)\n",
    "\n",
    "print(f\"best score: {lr_gs3.best_score_}\")\n",
    "print(f\"best params: {lr_gs3.best_params_}\")"
   ]
  },
  {
   "cell_type": "markdown",
   "id": "4451bb0e",
   "metadata": {},
   "source": [
    "#### 10-fold cv to make sure the model is not overfitting"
   ]
  },
  {
   "cell_type": "code",
   "execution_count": 129,
   "id": "73486007",
   "metadata": {},
   "outputs": [
    {
     "name": "stdout",
     "output_type": "stream",
     "text": [
      "[0.67418546 0.72344437 0.67479675 0.56899872 0.56899872 0.59487179\n",
      " 0.6835443  0.59435173 0.61970475 0.59330759]\n",
      "0.6296204193486645\n",
      "0.051919104843118125\n"
     ]
    }
   ],
   "source": [
    "best_lr3 = lr_gs.best_estimator_\n",
    "\n",
    "cv_scores_lr3 = cross_val_score(best_lr3, X_train3, y_train3, cv=10, scoring='f1_macro')\n",
    "print(cv_scores_lr3)\n",
    "print(cv_scores_lr3.mean())\n",
    "print(cv_scores_lr3.std())"
   ]
  },
  {
   "cell_type": "markdown",
   "id": "f2aedc03",
   "metadata": {},
   "source": [
    "#### hold-out method for final classification perfomrnace evaluation "
   ]
  },
  {
   "cell_type": "code",
   "execution_count": 130,
   "id": "9fcbc18f",
   "metadata": {},
   "outputs": [
    {
     "name": "stdout",
     "output_type": "stream",
     "text": [
      "              precision    recall  f1-score   support\n",
      "\n",
      "        high       0.74      0.59      0.66       145\n",
      "         low       0.60      0.74      0.66       120\n",
      "\n",
      "    accuracy                           0.66       265\n",
      "   macro avg       0.67      0.67      0.66       265\n",
      "weighted avg       0.67      0.66      0.66       265\n",
      "\n"
     ]
    }
   ],
   "source": [
    "best_lr3.fit(X_train3, y_train3)\n",
    "lr_pred3 = best_lr3.predict(X_test3)\n",
    "print(classification_report(y_test3, lr_pred3))"
   ]
  },
  {
   "cell_type": "markdown",
   "id": "503b26d3",
   "metadata": {},
   "source": [
    "#### 2) DecisionTree \n",
    "#### 10-fold gridsearch cv to fine tune the hyperparameters"
   ]
  },
  {
   "cell_type": "code",
   "execution_count": 131,
   "id": "3cdc3824",
   "metadata": {},
   "outputs": [
    {
     "name": "stdout",
     "output_type": "stream",
     "text": [
      "Fitting 10 folds for each of 27 candidates, totalling 270 fits\n",
      "best score: 0.5888052130012902\n",
      "best params: {'decisiontreeclassifier__criterion': 'gini', 'decisiontreeclassifier__max_depth': 20}\n"
     ]
    }
   ],
   "source": [
    "dt3 = make_pipeline(OneHotEncoder(),\n",
    "                    DecisionTreeClassifier(class_weight='balanced', random_state=42))\n",
    "\n",
    "dt_param_grid3={'decisiontreeclassifier__criterion': ['gini', 'entropy', 'log_loss'],\n",
    "               'decisiontreeclassifier__max_depth': [20, 30, 40, 50, 60, 70, 80, 90, 100]}\n",
    "\n",
    "dt_gs3 = GridSearchCV(dt3, dt_param_grid3, cv=10, scoring='f1_macro', n_jobs=-1, verbose=1, refit=True)\n",
    "dt_gs3.fit(X_train3, y_train3)\n",
    "\n",
    "print(f\"best score: {dt_gs3.best_score_}\")\n",
    "print(f\"best params: {dt_gs3.best_params_}\")"
   ]
  },
  {
   "cell_type": "markdown",
   "id": "23cac8c1",
   "metadata": {},
   "source": [
    "#### 10-fold cv to make sure the model is not overfitting"
   ]
  },
  {
   "cell_type": "code",
   "execution_count": 132,
   "id": "b6a081f2",
   "metadata": {},
   "outputs": [
    {
     "name": "stdout",
     "output_type": "stream",
     "text": [
      "[0.63698952 0.56157318 0.70881469 0.71785714 0.62910798 0.53529412\n",
      " 0.52892828 0.52679294 0.5523717  0.49032258]\n",
      "0.5888052130012902\n",
      "0.0755412030278227\n"
     ]
    }
   ],
   "source": [
    "best_dt3 = dt_gs.best_estimator_\n",
    "\n",
    "cv_scores_dt3 = cross_val_score(best_dt3, X_train3, y_train3, cv=10, scoring='f1_macro')\n",
    "print(cv_scores_dt3)\n",
    "print(cv_scores_dt3.mean())\n",
    "print(cv_scores_dt3.std())"
   ]
  },
  {
   "cell_type": "markdown",
   "id": "e6ed7f47",
   "metadata": {},
   "source": [
    "#### hold-out method for final classification perfomrnace evaluation "
   ]
  },
  {
   "cell_type": "code",
   "execution_count": 133,
   "id": "996b9316",
   "metadata": {},
   "outputs": [
    {
     "name": "stdout",
     "output_type": "stream",
     "text": [
      "              precision    recall  f1-score   support\n",
      "\n",
      "        high       0.66      0.59      0.62       145\n",
      "         low       0.56      0.63      0.59       120\n",
      "\n",
      "    accuracy                           0.61       265\n",
      "   macro avg       0.61      0.61      0.61       265\n",
      "weighted avg       0.61      0.61      0.61       265\n",
      "\n"
     ]
    }
   ],
   "source": [
    "best_dt3.fit(X_train3, y_train3)\n",
    "dt_pred3 = best_dt3.predict(X_test3)\n",
    "print(classification_report(y_test3, dt_pred3))"
   ]
  },
  {
   "cell_type": "markdown",
   "id": "0eab782d",
   "metadata": {},
   "source": [
    "#### 3) RandomForest \n",
    "#### 10-fold gridsearch cv to fine tune the hyperparameters"
   ]
  },
  {
   "cell_type": "code",
   "execution_count": 134,
   "id": "37d46f1e",
   "metadata": {},
   "outputs": [
    {
     "name": "stdout",
     "output_type": "stream",
     "text": [
      "Fitting 10 folds for each of 27 candidates, totalling 270 fits\n",
      "best score: 0.6656009061964318\n",
      "best params: {'randomforestclassifier__criterion': 'entropy', 'randomforestclassifier__max_depth': 30, 'randomforestclassifier__n_estimators': 500}\n"
     ]
    }
   ],
   "source": [
    "rf3 = make_pipeline(OneHotEncoder(),\n",
    "                    RandomForestClassifier(class_weight='balanced', random_state=42))\n",
    "\n",
    "rf_param_grid3={'randomforestclassifier__n_estimators': [150, 300, 500],\n",
    "               'randomforestclassifier__criterion': ['gini', 'entropy', 'log_loss'],\n",
    "               'randomforestclassifier__max_depth': [30, 40, 50]}\n",
    "\n",
    "rf_gs3 = GridSearchCV(rf3, rf_param_grid3, cv=10, scoring='f1_macro', n_jobs=-1, verbose=1, refit=True)\n",
    "rf_gs3.fit(X_train3, y_train3)\n",
    "\n",
    "print(f\"best score: {rf_gs3.best_score_}\")\n",
    "print(f\"best params: {rf_gs3.best_params_}\")"
   ]
  },
  {
   "cell_type": "markdown",
   "id": "9674d120",
   "metadata": {},
   "source": [
    "#### 10-fold cv to make sure the model is not overfitting"
   ]
  },
  {
   "cell_type": "code",
   "execution_count": 135,
   "id": "7e978aa4",
   "metadata": {},
   "outputs": [
    {
     "name": "stdout",
     "output_type": "stream",
     "text": [
      "[0.69052224 0.66881934 0.78173648 0.69640769 0.70584426 0.68774704\n",
      " 0.63570487 0.55667789 0.58610782 0.52662215]\n",
      "0.6536189789481268\n",
      "0.0735761597957294\n"
     ]
    }
   ],
   "source": [
    "best_rf3 = rf_gs.best_estimator_\n",
    "\n",
    "cv_scores_rf3 = cross_val_score(best_rf3, X_train3, y_train3, cv=10, scoring='f1_macro')\n",
    "print(cv_scores_rf3)\n",
    "print(cv_scores_rf3.mean())\n",
    "print(cv_scores_rf3.std())"
   ]
  },
  {
   "cell_type": "markdown",
   "id": "d32af752",
   "metadata": {},
   "source": [
    "#### hold-out method for final classification perfomrnace evaluation "
   ]
  },
  {
   "cell_type": "code",
   "execution_count": 136,
   "id": "921a2a4d",
   "metadata": {},
   "outputs": [
    {
     "name": "stdout",
     "output_type": "stream",
     "text": [
      "              precision    recall  f1-score   support\n",
      "\n",
      "        high       0.70      0.69      0.69       145\n",
      "         low       0.63      0.64      0.64       120\n",
      "\n",
      "    accuracy                           0.67       265\n",
      "   macro avg       0.67      0.67      0.67       265\n",
      "weighted avg       0.67      0.67      0.67       265\n",
      "\n"
     ]
    }
   ],
   "source": [
    "best_rf3.fit(X_train3, y_train3)\n",
    "rf_pred3 = best_rf3.predict(X_test3)\n",
    "print(classification_report(y_test3, rf_pred3))"
   ]
  },
  {
   "cell_type": "markdown",
   "id": "c002de3e",
   "metadata": {},
   "source": [
    "#### 4) KNN \n",
    "#### 10-fold gridsearch cv to fine tune the hyperparameters"
   ]
  },
  {
   "cell_type": "code",
   "execution_count": 137,
   "id": "9984bd59",
   "metadata": {},
   "outputs": [
    {
     "name": "stdout",
     "output_type": "stream",
     "text": [
      "Fitting 10 folds for each of 44 candidates, totalling 440 fits\n",
      "best score: 0.6388238028969551\n",
      "best params: {'kneighborsclassifier__algorithm': 'auto', 'kneighborsclassifier__n_neighbors': 6}\n"
     ]
    }
   ],
   "source": [
    "knn3 = make_pipeline(OneHotEncoder(),\n",
    "                     KNeighborsClassifier())\n",
    "\n",
    "knn_param_grid3={'kneighborsclassifier__n_neighbors': [1, 2, 3, 4, 5, 6, 7, 8, 9, 10, 20],\n",
    "                'kneighborsclassifier__algorithm': ['auto', 'ball_tree', 'kd_tree', 'brute']}\n",
    "\n",
    "knn_gs3 = GridSearchCV(knn3, knn_param_grid3, cv=10, scoring='f1_macro', n_jobs=-1, verbose=1, refit=True)\n",
    "knn_gs3.fit(X_train3, y_train3)\n",
    "\n",
    "print(f\"best score: {knn_gs3.best_score_}\")\n",
    "print(f\"best params: {knn_gs3.best_params_}\")"
   ]
  },
  {
   "cell_type": "markdown",
   "id": "d7b21f2b",
   "metadata": {},
   "source": [
    "#### 10-fold cv to make sure the model is not overfitting"
   ]
  },
  {
   "cell_type": "code",
   "execution_count": 138,
   "id": "5dd42bd8",
   "metadata": {},
   "outputs": [
    {
     "name": "stdout",
     "output_type": "stream",
     "text": [
      "[0.71033575 0.61583044 0.73333333 0.63231383 0.6471464  0.65857713\n",
      " 0.58366271 0.56873449 0.60605053 0.48521303]\n",
      "0.6241197645378908\n",
      "0.06748338286799359\n"
     ]
    }
   ],
   "source": [
    "best_knn3 = knn_gs.best_estimator_\n",
    "\n",
    "cv_scores_knn3 = cross_val_score(best_knn3, X_train3, y_train3, cv=10, scoring='f1_macro')\n",
    "print(cv_scores_knn3)\n",
    "print(cv_scores_knn3.mean())\n",
    "print(cv_scores_knn3.std())"
   ]
  },
  {
   "cell_type": "markdown",
   "id": "380d72cf",
   "metadata": {},
   "source": [
    "#### hold-out method for final classification perfomrnace evaluation "
   ]
  },
  {
   "cell_type": "code",
   "execution_count": 139,
   "id": "0a5fe546",
   "metadata": {},
   "outputs": [
    {
     "name": "stdout",
     "output_type": "stream",
     "text": [
      "              precision    recall  f1-score   support\n",
      "\n",
      "        high       0.62      0.71      0.66       145\n",
      "         low       0.58      0.48      0.53       120\n",
      "\n",
      "    accuracy                           0.61       265\n",
      "   macro avg       0.60      0.60      0.60       265\n",
      "weighted avg       0.60      0.61      0.60       265\n",
      "\n"
     ]
    }
   ],
   "source": [
    "best_knn3.fit(X_train3, y_train3)\n",
    "knn_pred3 = best_knn3.predict(X_test3)\n",
    "print(classification_report(y_test3, knn_pred3))"
   ]
  },
  {
   "cell_type": "markdown",
   "id": "3ed324e1",
   "metadata": {},
   "source": [
    "#### 5) SVM \n",
    "#### 10-fold gridsearch cv to fine tune the hyperparameters"
   ]
  },
  {
   "cell_type": "code",
   "execution_count": 140,
   "id": "9f14072c",
   "metadata": {},
   "outputs": [
    {
     "name": "stdout",
     "output_type": "stream",
     "text": [
      "Fitting 10 folds for each of 20 candidates, totalling 200 fits\n",
      "best score: 0.6532615659147388\n",
      "best params: {'svc__C': 1.0, 'svc__kernel': 'rbf'}\n"
     ]
    }
   ],
   "source": [
    "svm3 = make_pipeline(OneHotEncoder(),\n",
    "                     SVC(class_weight='balanced', random_state=42))\n",
    "\n",
    "svm_param_grid3={'svc__kernel': ['linear', 'rbf', 'poly','sigmoid'],\n",
    "                'svc__C': [0.01, 0.1, 1.0, 10, 100]}\n",
    "\n",
    "svm_gs3 = GridSearchCV(svm3, svm_param_grid3, cv=10, scoring='f1_macro', n_jobs=-1, verbose=1, refit=True)\n",
    "svm_gs3.fit(X_train3, y_train3)\n",
    "\n",
    "print(f\"best score: {svm_gs3.best_score_}\")\n",
    "print(f\"best params: {svm_gs3.best_params_}\")"
   ]
  },
  {
   "cell_type": "markdown",
   "id": "5c1bbdff",
   "metadata": {},
   "source": [
    "#### 10-fold cv to make sure the model is not overfitting"
   ]
  },
  {
   "cell_type": "code",
   "execution_count": 141,
   "id": "e2ecd22d",
   "metadata": {},
   "outputs": [
    {
     "name": "stdout",
     "output_type": "stream",
     "text": [
      "[0.74424552 0.68147794 0.77142857 0.58366271 0.55439162 0.64090909\n",
      " 0.65800866 0.56788932 0.65015581 0.54649828]\n",
      "0.6398667530815361\n",
      "0.07398265116908548\n"
     ]
    }
   ],
   "source": [
    "best_svm3 = svm_gs.best_estimator_\n",
    "\n",
    "cv_scores_svm3 = cross_val_score(best_svm3, X_train3, y_train3, cv=10, scoring='f1_macro')\n",
    "print(cv_scores_svm3)\n",
    "print(cv_scores_svm3.mean())\n",
    "print(cv_scores_svm3.std())"
   ]
  },
  {
   "cell_type": "markdown",
   "id": "3671a507",
   "metadata": {},
   "source": [
    "#### hold-out method for final classification perfomrnace evaluation "
   ]
  },
  {
   "cell_type": "code",
   "execution_count": 142,
   "id": "5d37d0c5",
   "metadata": {},
   "outputs": [
    {
     "name": "stdout",
     "output_type": "stream",
     "text": [
      "              precision    recall  f1-score   support\n",
      "\n",
      "        high       0.72      0.70      0.71       145\n",
      "         low       0.65      0.67      0.66       120\n",
      "\n",
      "    accuracy                           0.69       265\n",
      "   macro avg       0.68      0.69      0.68       265\n",
      "weighted avg       0.69      0.69      0.69       265\n",
      "\n"
     ]
    }
   ],
   "source": [
    "best_svm3.fit(X_train3, y_train3)\n",
    "svm_pred3 = best_svm3.predict(X_test3)\n",
    "print(classification_report(y_test3, svm_pred3))"
   ]
  },
  {
   "cell_type": "code",
   "execution_count": null,
   "id": "7a30648e",
   "metadata": {},
   "outputs": [],
   "source": []
  },
  {
   "cell_type": "markdown",
   "id": "89e55587",
   "metadata": {},
   "source": [
    "### 2.4 Agreeableness"
   ]
  },
  {
   "cell_type": "markdown",
   "id": "0854ed1f",
   "metadata": {},
   "source": [
    "#### 2.4.1 Split data"
   ]
  },
  {
   "cell_type": "code",
   "execution_count": 34,
   "id": "389f217f",
   "metadata": {},
   "outputs": [
    {
     "data": {
      "text/plain": [
       "((793, 22), (265, 22), (793,), (265,))"
      ]
     },
     "execution_count": 34,
     "metadata": {},
     "output_type": "execute_result"
    }
   ],
   "source": [
    "X4 = data[['FavouriteRole', 'LeastFavoriteRole', 'RoleMostPlay', 'RoleLeastPlay', 'BestRole','WorstRole',\n",
    "  'FavoritePosition', 'LeastFavoritePosition', 'BestPosition','WorstPosition','PositionMostPlay','PositionLeastPlay', \n",
    " 'chengjie', 'zhongjie', 'kuangbao', 'jipao', 'zhiliao', 'ganrao', 'yunxuan', 'jinghua', 'ruohua', 'shanxian']]\n",
    "y4 = data['Agreeableness']\n",
    "\n",
    "X_train4, X_test4, y_train4, y_test4 = train_test_split(X4, y4, test_size=0.25, stratify=y4, random_state=42, shuffle=True,)\n",
    "X_train4.shape, X_test4.shape, y_train4.shape, y_test4.shape"
   ]
  },
  {
   "cell_type": "markdown",
   "id": "72494efa",
   "metadata": {},
   "source": [
    "#### 2.4.2 Baseline model"
   ]
  },
  {
   "cell_type": "code",
   "execution_count": 144,
   "id": "f2afa3fc",
   "metadata": {},
   "outputs": [
    {
     "name": "stdout",
     "output_type": "stream",
     "text": [
      "0.5523329129886507\n",
      "0.35523114355231145\n"
     ]
    }
   ],
   "source": [
    "dummy4 = DummyClassifier(strategy=\"most_frequent\", random_state=42)\n",
    "dummy4.fit(X_train4, y_train4)\n",
    "accuracy4 = dummy4.score(X_train4, y_train4)\n",
    "print(accuracy4)\n",
    "\n",
    "y_pred4 = dummy4.predict(X_test4)\n",
    "f1_4 = f1_score(y_test4, y_pred4, average='macro')\n",
    "print(f1_4)"
   ]
  },
  {
   "cell_type": "markdown",
   "id": "c2b6d905",
   "metadata": {},
   "source": [
    "#### 2.4.3 Model performance comparison (evaluation metric: macro F1 score)"
   ]
  },
  {
   "cell_type": "markdown",
   "id": "dca0e358",
   "metadata": {},
   "source": [
    "#### 1) LogisticRegression \n",
    "#### 10-fold gridsearch cv to fine tune the hyperparameters"
   ]
  },
  {
   "cell_type": "code",
   "execution_count": 145,
   "id": "200a7ec9",
   "metadata": {},
   "outputs": [
    {
     "name": "stdout",
     "output_type": "stream",
     "text": [
      "Fitting 10 folds for each of 20 candidates, totalling 200 fits\n",
      "best score: 0.585553701103714\n",
      "best params: {'logisticregression__C': 100, 'logisticregression__solver': 'sag'}\n"
     ]
    }
   ],
   "source": [
    "lr4 = make_pipeline(OneHotEncoder(),\n",
    "                    LogisticRegression(class_weight='balanced', random_state=42))\n",
    "\n",
    "lr_param_grid4={'logisticregression__C': [0.01, 0.1, 1.0, 10, 100],\n",
    "               'logisticregression__solver': ['newton-cg', 'sag', 'saga','lbfgs']}\n",
    "\n",
    "lr_gs4 = GridSearchCV(lr4, lr_param_grid4, cv=10, scoring='f1_macro', n_jobs=-1, verbose=1, refit=True)\n",
    "lr_gs4.fit(X_train4, y_train4)\n",
    "\n",
    "print(f\"best score: {lr_gs4.best_score_}\")\n",
    "print(f\"best params: {lr_gs4.best_params_}\")"
   ]
  },
  {
   "cell_type": "markdown",
   "id": "0a49881e",
   "metadata": {},
   "source": [
    "#### 10-fold cv to make sure the model is not overfitting"
   ]
  },
  {
   "cell_type": "code",
   "execution_count": 146,
   "id": "0dd04ee6",
   "metadata": {},
   "outputs": [
    {
     "name": "stdout",
     "output_type": "stream",
     "text": [
      "[0.53684869 0.58588235 0.55689191 0.64551282 0.58201058 0.5436457\n",
      " 0.60734327 0.58120482 0.46136364 0.5523717 ]\n",
      "0.5653075492955979\n",
      "0.04634281287682346\n"
     ]
    }
   ],
   "source": [
    "best_lr4 = lr_gs.best_estimator_\n",
    "\n",
    "cv_scores_lr4 = cross_val_score(best_lr4, X_train4, y_train4, cv=10, scoring='f1_macro')\n",
    "print(cv_scores_lr4)\n",
    "print(cv_scores_lr4.mean())\n",
    "print(cv_scores_lr4.std())"
   ]
  },
  {
   "cell_type": "markdown",
   "id": "5a7c346e",
   "metadata": {},
   "source": [
    "#### hold-out method to evaluate the classification performance"
   ]
  },
  {
   "cell_type": "code",
   "execution_count": 147,
   "id": "35540103",
   "metadata": {},
   "outputs": [
    {
     "name": "stdout",
     "output_type": "stream",
     "text": [
      "              precision    recall  f1-score   support\n",
      "\n",
      "        high       0.62      0.56      0.59       146\n",
      "         low       0.52      0.58      0.55       119\n",
      "\n",
      "    accuracy                           0.57       265\n",
      "   macro avg       0.57      0.57      0.57       265\n",
      "weighted avg       0.58      0.57      0.57       265\n",
      "\n"
     ]
    }
   ],
   "source": [
    "best_lr4.fit(X_train4,y_train4)\n",
    "lr_pred4 = best_lr4.predict(X_test4)\n",
    "print(classification_report(y_test4, lr_pred4))"
   ]
  },
  {
   "cell_type": "markdown",
   "id": "78063b9a",
   "metadata": {},
   "source": [
    "#### 2) DecisionTree \n",
    "#### 10-fold gridsearch cv to fine tune the hyperparameters"
   ]
  },
  {
   "cell_type": "code",
   "execution_count": 148,
   "id": "22a683c6",
   "metadata": {},
   "outputs": [
    {
     "name": "stdout",
     "output_type": "stream",
     "text": [
      "Fitting 10 folds for each of 27 candidates, totalling 270 fits\n",
      "best score: 0.5778293097886525\n",
      "best params: {'decisiontreeclassifier__criterion': 'entropy', 'decisiontreeclassifier__max_depth': 20}\n"
     ]
    }
   ],
   "source": [
    "dt4 = make_pipeline(OneHotEncoder(),\n",
    "                    DecisionTreeClassifier(class_weight='balanced', random_state=42))\n",
    "\n",
    "dt_param_grid4={'decisiontreeclassifier__criterion': ['gini', 'entropy', 'log_loss'],\n",
    "               'decisiontreeclassifier__max_depth': [20, 30, 40, 50, 60, 70, 80, 90, 100]}\n",
    "\n",
    "dt_gs4 = GridSearchCV(dt4, dt_param_grid4, cv=10, scoring='f1_macro', n_jobs=-1, verbose=1, refit=True)\n",
    "dt_gs4.fit(X_train4, y_train4)\n",
    "\n",
    "print(f\"best score: {dt_gs4.best_score_}\")\n",
    "print(f\"best params: {dt_gs4.best_params_}\")"
   ]
  },
  {
   "cell_type": "markdown",
   "id": "e8f2bcb5",
   "metadata": {},
   "source": [
    "#### 10-fold cv to make sure the model is not overfitting"
   ]
  },
  {
   "cell_type": "code",
   "execution_count": 149,
   "id": "c92bfdb0",
   "metadata": {},
   "outputs": [
    {
     "name": "stdout",
     "output_type": "stream",
     "text": [
      "[0.51058824 0.55689191 0.52231301 0.62424143 0.59435173 0.62693372\n",
      " 0.57985496 0.64090909 0.52726064 0.55764163]\n",
      "0.5740986365224849\n",
      "0.04437209780556292\n"
     ]
    }
   ],
   "source": [
    "best_dt4 = dt_gs.best_estimator_\n",
    "\n",
    "cv_scores_dt4 = cross_val_score(best_dt4, X_train4, y_train4, cv=10, scoring='f1_macro')\n",
    "print(cv_scores_dt4)\n",
    "print(cv_scores_dt4.mean())\n",
    "print(cv_scores_dt4.std())"
   ]
  },
  {
   "cell_type": "markdown",
   "id": "ded0c0f0",
   "metadata": {},
   "source": [
    "#### hold-out method to evaluate the classification performance"
   ]
  },
  {
   "cell_type": "code",
   "execution_count": 150,
   "id": "4fbfddb8",
   "metadata": {},
   "outputs": [
    {
     "name": "stdout",
     "output_type": "stream",
     "text": [
      "              precision    recall  f1-score   support\n",
      "\n",
      "        high       0.60      0.61      0.61       146\n",
      "         low       0.51      0.50      0.51       119\n",
      "\n",
      "    accuracy                           0.56       265\n",
      "   macro avg       0.56      0.56      0.56       265\n",
      "weighted avg       0.56      0.56      0.56       265\n",
      "\n"
     ]
    }
   ],
   "source": [
    "best_dt4.fit(X_train4,y_train4)\n",
    "dt_pred4 = best_dt4.predict(X_test4)\n",
    "print(classification_report(y_test4, dt_pred4))"
   ]
  },
  {
   "cell_type": "markdown",
   "id": "68338f71",
   "metadata": {},
   "source": [
    "#### 3) RandomForest \n",
    "#### 10-fold gridsearch cv to fine tune the hyperparameters"
   ]
  },
  {
   "cell_type": "code",
   "execution_count": 35,
   "id": "cceda78c",
   "metadata": {},
   "outputs": [
    {
     "name": "stdout",
     "output_type": "stream",
     "text": [
      "Fitting 10 folds for each of 27 candidates, totalling 270 fits\n",
      "best score: 0.5604423597654546\n",
      "best params: {'randomforestclassifier__criterion': 'entropy', 'randomforestclassifier__max_depth': 30, 'randomforestclassifier__n_estimators': 150}\n"
     ]
    }
   ],
   "source": [
    "rf4 = make_pipeline(OneHotEncoder(),\n",
    "                    RandomForestClassifier(class_weight='balanced', random_state=42))\n",
    "\n",
    "rf_param_grid4={'randomforestclassifier__n_estimators': [150, 300, 500],\n",
    "               'randomforestclassifier__criterion': ['gini', 'entropy', 'log_loss'],\n",
    "               'randomforestclassifier__max_depth': [30, 40, 50]}\n",
    "\n",
    "rf_gs4 = GridSearchCV(rf4, rf_param_grid4, cv=10, scoring='f1_macro', n_jobs=-1, verbose=1, refit=True)\n",
    "rf_gs4.fit(X_train4, y_train4)\n",
    "\n",
    "print(f\"best score: {rf_gs4.best_score_}\")\n",
    "print(f\"best params: {rf_gs4.best_params_}\")"
   ]
  },
  {
   "cell_type": "markdown",
   "id": "b9d7ea91",
   "metadata": {},
   "source": [
    "#### 10-fold cv to make sure the model is not overfitting"
   ]
  },
  {
   "cell_type": "code",
   "execution_count": 36,
   "id": "d49679f2",
   "metadata": {},
   "outputs": [
    {
     "name": "stdout",
     "output_type": "stream",
     "text": [
      "[0.45841393 0.61636829 0.62666667 0.63231383 0.52679294 0.5594051\n",
      " 0.58961039 0.56441103 0.44677871 0.58366271]\n",
      "0.5604423597654546\n",
      "0.062086367930318465\n"
     ]
    }
   ],
   "source": [
    "best_rf4 = rf_gs.best_estimator_\n",
    "\n",
    "cv_scores_rf4 = cross_val_score(best_rf4, X_train4, y_train4, cv=10, scoring='f1_macro')\n",
    "print(cv_scores_rf4)\n",
    "print(cv_scores_rf4.mean())\n",
    "print(cv_scores_rf4.std())"
   ]
  },
  {
   "cell_type": "markdown",
   "id": "76ec01ba",
   "metadata": {},
   "source": [
    "#### hold-out method to evaluate the classification performance"
   ]
  },
  {
   "cell_type": "code",
   "execution_count": 41,
   "id": "aee75e4a",
   "metadata": {},
   "outputs": [
    {
     "name": "stdout",
     "output_type": "stream",
     "text": [
      "              precision    recall  f1-score   support\n",
      "\n",
      "        high       0.63      0.75      0.69       146\n",
      "         low       0.60      0.45      0.52       119\n",
      "\n",
      "    accuracy                           0.62       265\n",
      "   macro avg       0.61      0.60      0.60       265\n",
      "weighted avg       0.62      0.62      0.61       265\n",
      "\n"
     ]
    }
   ],
   "source": [
    "best_rf4.fit(X_train4,y_train4)\n",
    "rf_pred4 = best_rf4.predict(X_test4)\n",
    "print(classification_report(y_test4, rf_pred4))"
   ]
  },
  {
   "cell_type": "markdown",
   "id": "162d51cf",
   "metadata": {},
   "source": [
    "###### Feature importance"
   ]
  },
  {
   "cell_type": "code",
   "execution_count": 42,
   "id": "4a7651dd",
   "metadata": {},
   "outputs": [
    {
     "name": "stdout",
     "output_type": "stream",
     "text": [
      "Pipeline(steps=[('onehotencoder', OneHotEncoder()),\n",
      "                ('randomforestclassifier',\n",
      "                 RandomForestClassifier(class_weight='balanced',\n",
      "                                        criterion='entropy', max_depth=30,\n",
      "                                        n_estimators=150, random_state=42))])\n"
     ]
    }
   ],
   "source": [
    "print(best_rf4)"
   ]
  },
  {
   "cell_type": "code",
   "execution_count": 38,
   "id": "da54e9e8",
   "metadata": {},
   "outputs": [
    {
     "name": "stdout",
     "output_type": "stream",
     "text": [
      "Feature: jinghua_0.0, Importance: 0.025078873640772856\n",
      "Feature: jinghua_1.0, Importance: 0.024306390073965047\n",
      "Feature: zhiliao_0.0, Importance: 0.02046640596624988\n",
      "Feature: shanxian_0.0, Importance: 0.01958996099798583\n",
      "Feature: zhiliao_1.0, Importance: 0.019122027737437507\n",
      "Feature: shanxian_1.0, Importance: 0.018660190237283093\n",
      "Feature: jipao_1.0, Importance: 0.018059653513364284\n",
      "Feature: PositionLeastPlay_5, Importance: 0.01803829082249633\n",
      "Feature: jipao_0.0, Importance: 0.016972490559029454\n",
      "Feature: zhongjie_1.0, Importance: 0.01692893334100542\n",
      "Feature: ganrao_0.0, Importance: 0.016732256743207233\n",
      "Feature: kuangbao_0.0, Importance: 0.016469168636820124\n",
      "Feature: yunxuan_0.0, Importance: 0.016435668292505343\n",
      "Feature: zhongjie_0.0, Importance: 0.01642872759940945\n",
      "Feature: yunxuan_1.0, Importance: 0.016026125875047002\n",
      "Feature: LeastFavoritePosition_5, Importance: 0.015889316271694202\n",
      "Feature: chengjie_1.0, Importance: 0.01558097301870223\n",
      "Feature: chengjie_0.0, Importance: 0.01512439220169548\n",
      "Feature: kuangbao_1.0, Importance: 0.01503756440332355\n",
      "Feature: ganrao_1.0, Importance: 0.014744443636129952\n",
      "Feature: LeastFavoriteRole_3, Importance: 0.014136159083169843\n",
      "Feature: LeastFavoriteRole_2, Importance: 0.013996840939840369\n",
      "Feature: WorstRole_5, Importance: 0.013757384271903164\n",
      "Feature: WorstPosition_4, Importance: 0.01366953345122962\n",
      "Feature: WorstPosition_5, Importance: 0.013411271879861934\n",
      "Feature: LeastFavoriteRole_5, Importance: 0.013279039643553812\n",
      "Feature: WorstRole_2, Importance: 0.01271560211768265\n",
      "Feature: LeastFavoritePosition_4, Importance: 0.012588046236011613\n",
      "Feature: RoleLeastPlay_5, Importance: 0.012500464821662536\n",
      "Feature: PositionLeastPlay_4, Importance: 0.012318631541623893\n",
      "Feature: RoleLeastPlay_2, Importance: 0.012218279389102261\n",
      "Feature: LeastFavoritePosition_1, Importance: 0.012001550190879675\n",
      "Feature: RoleLeastPlay_3, Importance: 0.011952255594014336\n",
      "Feature: FavoritePosition_2, Importance: 0.01166518039753688\n",
      "Feature: RoleLeastPlay_6, Importance: 0.011443422147644336\n",
      "Feature: BestPosition_2, Importance: 0.011278082971931426\n",
      "Feature: WorstRole_3, Importance: 0.011185784195611564\n",
      "Feature: RoleMostPlay_2, Importance: 0.010881557392144746\n",
      "Feature: WorstPosition_1, Importance: 0.010844982027336627\n",
      "Feature: LeastFavoriteRole_6, Importance: 0.010709926783887819\n",
      "Feature: BestPosition_4, Importance: 0.01062272668756424\n",
      "Feature: PositionLeastPlay_1, Importance: 0.010514597637667523\n",
      "Feature: PositionMostPlay_2, Importance: 0.010446302591510127\n",
      "Feature: RoleMostPlay_1, Importance: 0.010309039250579589\n",
      "Feature: LeastFavoritePosition_3, Importance: 0.010148316029799933\n",
      "Feature: FavouriteRole_4, Importance: 0.010095100154585637\n",
      "Feature: FavouriteRole_1, Importance: 0.010092106434594395\n",
      "Feature: PositionMostPlay_4, Importance: 0.010014351140373261\n",
      "Feature: WorstRole_6, Importance: 0.009951361131180208\n",
      "Feature: WorstPosition_3, Importance: 0.009861954842378425\n",
      "Feature: RoleMostPlay_4, Importance: 0.009759701796258376\n",
      "Feature: PositionLeastPlay_2, Importance: 0.009461104674551333\n",
      "Feature: BestRole_1, Importance: 0.009430727827752701\n",
      "Feature: BestPosition_1, Importance: 0.009410852237477613\n",
      "Feature: FavoritePosition_4, Importance: 0.009268567065998577\n",
      "Feature: RoleMostPlay_3, Importance: 0.009212532717276213\n",
      "Feature: PositionLeastPlay_3, Importance: 0.009196810058438165\n",
      "Feature: ruohua_1.0, Importance: 0.00910274589787481\n",
      "Feature: WorstPosition_2, Importance: 0.008982597330379477\n",
      "Feature: PositionMostPlay_1, Importance: 0.008957128343654404\n",
      "Feature: FavouriteRole_2, Importance: 0.008915992457033511\n",
      "Feature: FavoritePosition_3, Importance: 0.008865549819048137\n",
      "Feature: LeastFavoritePosition_2, Importance: 0.008818621282037137\n",
      "Feature: PositionMostPlay_5, Importance: 0.008713115899926818\n",
      "Feature: BestRole_4, Importance: 0.008558986506553437\n",
      "Feature: FavouriteRole_6, Importance: 0.008545354876642217\n",
      "Feature: BestRole_2, Importance: 0.00850543674035528\n",
      "Feature: PositionMostPlay_3, Importance: 0.008434881806356613\n",
      "Feature: RoleLeastPlay_4, Importance: 0.008419404106072843\n",
      "Feature: RoleMostPlay_6, Importance: 0.008354102314019668\n",
      "Feature: ruohua_0.0, Importance: 0.008348745071739796\n",
      "Feature: BestPosition_3, Importance: 0.008258220494628528\n",
      "Feature: FavoritePosition_1, Importance: 0.008251533643150117\n",
      "Feature: LeastFavoriteRole_4, Importance: 0.008188172179223008\n",
      "Feature: BestRole_5, Importance: 0.008066137656164521\n",
      "Feature: BestRole_6, Importance: 0.008065445836806538\n",
      "Feature: FavoritePosition_5, Importance: 0.007758160117735754\n",
      "Feature: RoleMostPlay_5, Importance: 0.007601757669305709\n",
      "Feature: FavouriteRole_3, Importance: 0.007485263782007314\n",
      "Feature: FavouriteRole_5, Importance: 0.007422740309170714\n",
      "Feature: WorstRole_4, Importance: 0.007098086104237544\n",
      "Feature: WorstRole_1, Importance: 0.0070245641431634556\n",
      "Feature: BestPosition_5, Importance: 0.006710841327693737\n",
      "Feature: RoleLeastPlay_1, Importance: 0.005694890266672689\n",
      "Feature: BestRole_3, Importance: 0.00546068439614549\n",
      "Feature: LeastFavoriteRole_1, Importance: 0.005348838699461066\n"
     ]
    }
   ],
   "source": [
    "# Get the feature importance from the RandomForestClassifier object\n",
    "classifier4 = best_rf4.steps[1][1]\n",
    "feature_importance4 = classifier4.feature_importances_\n",
    "\n",
    "# Sort the feature importance in descending order\n",
    "sorted_idx4 = feature_importance4.argsort()[::-1]\n",
    "\n",
    "# Get the original feature names and the corresponding one-hot encoded indices\n",
    "encoder4 = best_rf4.steps[0][1]\n",
    "encoded_feature_names4 = encoder4.get_feature_names(input_features=X.columns)\n",
    "\n",
    "# Print the feature importance of the encoded features\n",
    "for idx in sorted_idx4:\n",
    "    print(f\"Feature: {encoded_feature_names4[idx]}, \"\n",
    "          f\"Importance: {feature_importance4[idx]}\")"
   ]
  },
  {
   "cell_type": "code",
   "execution_count": 43,
   "id": "810f760c",
   "metadata": {},
   "outputs": [
    {
     "data": {
      "image/png": "[encoded data removed]",
      "text/plain": [
       "<Figure size 720x1296 with 1 Axes>"
      ]
     },
     "metadata": {
      "needs_background": "light"
     },
     "output_type": "display_data"
    }
   ],
   "source": [
    "# Plot the feature importance of the encoded features in a bar plot\n",
    "plt.figure(figsize=(10,18))\n",
    "plt.barh(encoded_feature_names4, feature_importance4)\n",
    "plt.xlabel('Feature Importance')\n",
    "plt.ylabel('Encoded Feature Names')\n",
    "plt.title('Feature Importance of RF Model Predicting Agreeableness');"
   ]
  },
  {
   "cell_type": "markdown",
   "id": "ec116dca",
   "metadata": {},
   "source": [
    "#### 4) KNN \n",
    "#### 10-fold gridsearch cv to fine tune the hyperparameters"
   ]
  },
  {
   "cell_type": "code",
   "execution_count": 154,
   "id": "8fb82096",
   "metadata": {},
   "outputs": [
    {
     "name": "stdout",
     "output_type": "stream",
     "text": [
      "Fitting 10 folds for each of 44 candidates, totalling 440 fits\n",
      "best score: 0.5738811812967972\n",
      "best params: {'kneighborsclassifier__algorithm': 'auto', 'kneighborsclassifier__n_neighbors': 1}\n"
     ]
    }
   ],
   "source": [
    "knn4 = make_pipeline(OneHotEncoder(),\n",
    "                     KNeighborsClassifier())\n",
    "\n",
    "knn_param_grid4={'kneighborsclassifier__n_neighbors': [1, 2, 3, 4, 5, 6, 7, 8, 9, 10, 20],\n",
    "                'kneighborsclassifier__algorithm': ['auto', 'ball_tree', 'kd_tree', 'brute']}\n",
    "\n",
    "knn_gs4 = GridSearchCV(knn4, knn_param_grid4, cv=10, scoring='f1_macro', n_jobs=-1, verbose=1, refit=True)\n",
    "knn_gs4.fit(X_train4, y_train4)\n",
    "\n",
    "print(f\"best score: {knn_gs4.best_score_}\")\n",
    "print(f\"best params: {knn_gs4.best_params_}\")"
   ]
  },
  {
   "cell_type": "markdown",
   "id": "692ff456",
   "metadata": {},
   "source": [
    "#### 10-fold cv to make sure the model is not overfitting"
   ]
  },
  {
   "cell_type": "code",
   "execution_count": 155,
   "id": "b9e1be81",
   "metadata": {},
   "outputs": [
    {
     "name": "stdout",
     "output_type": "stream",
     "text": [
      "[0.46753013 0.61067293 0.62136579 0.57460483 0.52217742 0.57460483\n",
      " 0.55764163 0.50965517 0.44407407 0.59832705]\n",
      "0.5480653854180343\n",
      "0.05724065709725333\n"
     ]
    }
   ],
   "source": [
    "best_knn4 = knn_gs.best_estimator_\n",
    "\n",
    "cv_scores_knn4 = cross_val_score(best_knn4, X_train4, y_train4, cv=10, scoring='f1_macro')\n",
    "print(cv_scores_knn4)\n",
    "print(cv_scores_knn4.mean())\n",
    "print(cv_scores_knn4.std())"
   ]
  },
  {
   "cell_type": "markdown",
   "id": "c0ac8266",
   "metadata": {},
   "source": [
    "#### hold-out method to evaluate the classification performance"
   ]
  },
  {
   "cell_type": "code",
   "execution_count": 156,
   "id": "6c6388cb",
   "metadata": {},
   "outputs": [
    {
     "name": "stdout",
     "output_type": "stream",
     "text": [
      "              precision    recall  f1-score   support\n",
      "\n",
      "        high       0.59      0.77      0.67       146\n",
      "         low       0.55      0.34      0.42       119\n",
      "\n",
      "    accuracy                           0.58       265\n",
      "   macro avg       0.57      0.56      0.54       265\n",
      "weighted avg       0.57      0.58      0.56       265\n",
      "\n"
     ]
    }
   ],
   "source": [
    "best_knn4.fit(X_train4,y_train4)\n",
    "knn_pred4 = best_knn4.predict(X_test4)\n",
    "print(classification_report(y_test4, knn_pred4))"
   ]
  },
  {
   "cell_type": "markdown",
   "id": "084f0b67",
   "metadata": {},
   "source": [
    "#### 5) SVM \n",
    "#### 10-fold gridsearch cv to fine tune the hyperparameters"
   ]
  },
  {
   "cell_type": "code",
   "execution_count": 157,
   "id": "d9d9aefe",
   "metadata": {},
   "outputs": [
    {
     "name": "stdout",
     "output_type": "stream",
     "text": [
      "Fitting 10 folds for each of 20 candidates, totalling 200 fits\n",
      "best score: 0.5851455692734888\n",
      "best params: {'svc__C': 0.1, 'svc__kernel': 'rbf'}\n"
     ]
    }
   ],
   "source": [
    "svm4 = make_pipeline(OneHotEncoder(),\n",
    "                     SVC(class_weight='balanced', random_state=42))\n",
    "\n",
    "svm_param_grid4={'svc__kernel': ['linear', 'rbf', 'poly','sigmoid'],\n",
    "                'svc__C': [0.01, 0.1, 1.0, 10, 100]}\n",
    "\n",
    "svm_gs4 = GridSearchCV(svm4, svm_param_grid4, cv=10, scoring='f1_macro', n_jobs=-1, verbose=1, refit=True)\n",
    "svm_gs4.fit(X_train4, y_train4)\n",
    "\n",
    "print(f\"best score: {svm_gs4.best_score_}\")\n",
    "print(f\"best params: {svm_gs4.best_params_}\")"
   ]
  },
  {
   "cell_type": "markdown",
   "id": "83576e83",
   "metadata": {},
   "source": [
    "#### 10-fold cv to make sure the model is not overfitting"
   ]
  },
  {
   "cell_type": "code",
   "execution_count": 158,
   "id": "16fe66e2",
   "metadata": {},
   "outputs": [
    {
     "name": "stdout",
     "output_type": "stream",
     "text": [
      "[0.51242382 0.62476548 0.62406015 0.65822785 0.57985496 0.5436457\n",
      " 0.59173127 0.61970475 0.49293967 0.54069767]\n",
      "0.5788051304904618\n",
      "0.05174652168842671\n"
     ]
    }
   ],
   "source": [
    "best_svm4 = svm_gs.best_estimator_\n",
    "\n",
    "cv_scores_svm4 = cross_val_score(best_svm4, X_train4, y_train4, cv=10, scoring='f1_macro')\n",
    "print(cv_scores_svm4)\n",
    "print(cv_scores_svm4.mean())\n",
    "print(cv_scores_svm4.std())"
   ]
  },
  {
   "cell_type": "markdown",
   "id": "730bd2f6",
   "metadata": {},
   "source": [
    "#### hold-out method to evaluate the classification performance"
   ]
  },
  {
   "cell_type": "code",
   "execution_count": 159,
   "id": "9268929c",
   "metadata": {},
   "outputs": [
    {
     "name": "stdout",
     "output_type": "stream",
     "text": [
      "              precision    recall  f1-score   support\n",
      "\n",
      "        high       0.66      0.52      0.58       146\n",
      "         low       0.53      0.66      0.59       119\n",
      "\n",
      "    accuracy                           0.58       265\n",
      "   macro avg       0.59      0.59      0.58       265\n",
      "weighted avg       0.60      0.58      0.58       265\n",
      "\n"
     ]
    }
   ],
   "source": [
    "best_svm4.fit(X_train4,y_train4)\n",
    "svm_pred4 = best_svm4.predict(X_test4)\n",
    "print(classification_report(y_test4, svm_pred4))"
   ]
  },
  {
   "cell_type": "code",
   "execution_count": null,
   "id": "1d30f562",
   "metadata": {},
   "outputs": [],
   "source": []
  },
  {
   "cell_type": "markdown",
   "id": "d6c23040",
   "metadata": {},
   "source": [
    "### 2.5 Conscientiousness"
   ]
  },
  {
   "cell_type": "markdown",
   "id": "48e1542f",
   "metadata": {},
   "source": [
    "#### 2.5.1 Split data"
   ]
  },
  {
   "cell_type": "code",
   "execution_count": 160,
   "id": "52168d74",
   "metadata": {},
   "outputs": [
    {
     "data": {
      "text/plain": [
       "((793, 22), (265, 22), (793,), (265,))"
      ]
     },
     "execution_count": 160,
     "metadata": {},
     "output_type": "execute_result"
    }
   ],
   "source": [
    "X5 = data[['FavouriteRole', 'LeastFavoriteRole', 'RoleMostPlay', 'RoleLeastPlay', 'BestRole','WorstRole',\n",
    "  'FavoritePosition', 'LeastFavoritePosition', 'BestPosition','WorstPosition','PositionMostPlay','PositionLeastPlay', \n",
    " 'chengjie', 'zhongjie', 'kuangbao', 'jipao', 'zhiliao', 'ganrao', 'yunxuan', 'jinghua', 'ruohua', 'shanxian']]\n",
    "y5 = data['Conscientiousness']\n",
    "\n",
    "X_train5, X_test5, y_train5, y_test5 = train_test_split(X5, y5, test_size=0.25, stratify=y5, random_state=42, shuffle=True,)\n",
    "X_train5.shape, X_test5.shape, y_train5.shape, y_test5.shape"
   ]
  },
  {
   "cell_type": "markdown",
   "id": "c34992e1",
   "metadata": {},
   "source": [
    "#### 2.5.2 Baseline model"
   ]
  },
  {
   "cell_type": "code",
   "execution_count": 161,
   "id": "d8658be6",
   "metadata": {},
   "outputs": [
    {
     "name": "stdout",
     "output_type": "stream",
     "text": [
      "0.5044136191677175\n",
      "0.33583959899749377\n"
     ]
    }
   ],
   "source": [
    "dummy5 = DummyClassifier(strategy=\"most_frequent\", random_state=42)\n",
    "dummy5.fit(X_train5, y_train5)\n",
    "accuracy5 = dummy5.score(X_train5, y_train5)\n",
    "print(accuracy5)\n",
    "\n",
    "y_pred5 = dummy5.predict(X_test5)\n",
    "f1_5 = f1_score(y_test5, y_pred5, average='macro')\n",
    "print(f1_5)"
   ]
  },
  {
   "cell_type": "markdown",
   "id": "1c170885",
   "metadata": {},
   "source": [
    "#### 2.5.3 Model performance comparison (evaluation metric: macro F1 score)"
   ]
  },
  {
   "cell_type": "markdown",
   "id": "88fb3a6f",
   "metadata": {},
   "source": [
    "#### 1) LogisticRegression \n",
    "#### 10-fold gridsearch cv to fine tune the hyperparameters"
   ]
  },
  {
   "cell_type": "code",
   "execution_count": 162,
   "id": "ddf5ab77",
   "metadata": {},
   "outputs": [
    {
     "name": "stdout",
     "output_type": "stream",
     "text": [
      "Fitting 10 folds for each of 20 candidates, totalling 200 fits\n",
      "best score: 0.6869485752119069\n",
      "best params: {'logisticregression__C': 0.1, 'logisticregression__solver': 'sag'}\n"
     ]
    }
   ],
   "source": [
    "lr5 = make_pipeline(OneHotEncoder(),\n",
    "                    LogisticRegression(class_weight='balanced', random_state=42))\n",
    "\n",
    "lr_param_grid5={'logisticregression__C': [0.01, 0.1, 1.0, 10, 100],\n",
    "               'logisticregression__solver': ['newton-cg', 'sag', 'saga','lbfgs']}\n",
    "\n",
    "lr_gs5 = GridSearchCV(lr5, lr_param_grid5, cv=10, scoring='f1_macro', n_jobs=-1, verbose=1, refit=True)\n",
    "lr_gs5.fit(X_train5, y_train5)\n",
    "\n",
    "print(f\"best score: {lr_gs5.best_score_}\")\n",
    "print(f\"best params: {lr_gs5.best_params_}\")"
   ]
  },
  {
   "cell_type": "markdown",
   "id": "ba0bc4a2",
   "metadata": {},
   "source": [
    "#### 10-fold cv to make sure the model is not overfitting"
   ]
  },
  {
   "cell_type": "code",
   "execution_count": 163,
   "id": "4831cf80",
   "metadata": {},
   "outputs": [
    {
     "name": "stdout",
     "output_type": "stream",
     "text": [
      "[0.62476548 0.625      0.68705993 0.64551282 0.77211538 0.63196787\n",
      " 0.73263497 0.6957638  0.74679487 0.6573494 ]\n",
      "0.681896452398738\n",
      "0.05105386074319661\n"
     ]
    }
   ],
   "source": [
    "best_lr5 = lr_gs.best_estimator_\n",
    "\n",
    "cv_scores_lr5 = cross_val_score(best_lr5, X_train5, y_train5, cv=10, scoring='f1_macro')\n",
    "print(cv_scores_lr5)\n",
    "print(cv_scores_lr5.mean())\n",
    "print(cv_scores_lr5.std())"
   ]
  },
  {
   "cell_type": "markdown",
   "id": "01f52970",
   "metadata": {},
   "source": [
    "##### hold-out method to evaluate the classification performance"
   ]
  },
  {
   "cell_type": "code",
   "execution_count": 164,
   "id": "5bb44859",
   "metadata": {},
   "outputs": [
    {
     "name": "stdout",
     "output_type": "stream",
     "text": [
      "              precision    recall  f1-score   support\n",
      "\n",
      "        high       0.71      0.66      0.68       134\n",
      "         low       0.67      0.73      0.70       131\n",
      "\n",
      "    accuracy                           0.69       265\n",
      "   macro avg       0.69      0.69      0.69       265\n",
      "weighted avg       0.69      0.69      0.69       265\n",
      "\n"
     ]
    }
   ],
   "source": [
    "best_lr5.fit(X_train5,y_train5)\n",
    "lr_pred5 = best_lr5.predict(X_test5)\n",
    "print(classification_report(y_test5, lr_pred5))"
   ]
  },
  {
   "cell_type": "markdown",
   "id": "8764b1be",
   "metadata": {},
   "source": [
    "#### 2) DecisionTree \n",
    "#### 10-fold gridsearch cv to fine tune the hyperparameters"
   ]
  },
  {
   "cell_type": "code",
   "execution_count": 165,
   "id": "61b3364e",
   "metadata": {},
   "outputs": [
    {
     "name": "stdout",
     "output_type": "stream",
     "text": [
      "Fitting 10 folds for each of 27 candidates, totalling 270 fits\n",
      "best score: 0.6052335240441561\n",
      "best params: {'decisiontreeclassifier__criterion': 'entropy', 'decisiontreeclassifier__max_depth': 30}\n"
     ]
    }
   ],
   "source": [
    "dt5 = make_pipeline(OneHotEncoder(),\n",
    "                    DecisionTreeClassifier(class_weight='balanced', random_state=42))\n",
    "\n",
    "dt_param_grid5={'decisiontreeclassifier__criterion': ['gini', 'entropy', 'log_loss'],\n",
    "               'decisiontreeclassifier__max_depth': [20, 30, 40, 50, 60, 70, 80, 90, 100]}\n",
    "\n",
    "dt_gs5 = GridSearchCV(dt5, dt_param_grid5, cv=10, scoring='f1_macro', n_jobs=-1, verbose=1, refit=True)\n",
    "dt_gs5.fit(X_train5, y_train5)\n",
    "\n",
    "print(f\"best score: {dt_gs5.best_score_}\")\n",
    "print(f\"best params: {dt_gs5.best_params_}\")"
   ]
  },
  {
   "cell_type": "markdown",
   "id": "3bc54ee2",
   "metadata": {},
   "source": [
    "#### 10-fold cv to make sure the model is not overfitting"
   ]
  },
  {
   "cell_type": "code",
   "execution_count": 166,
   "id": "96be04a0",
   "metadata": {},
   "outputs": [
    {
     "name": "stdout",
     "output_type": "stream",
     "text": [
      "[0.675      0.58736299 0.59899749 0.61872587 0.52892828 0.49293967\n",
      " 0.58227848 0.73417722 0.58120482 0.59435173]\n",
      "0.5993966552430161\n",
      "0.06430284588669317\n"
     ]
    }
   ],
   "source": [
    "best_dt5 = dt_gs.best_estimator_\n",
    "\n",
    "cv_scores_dt5 = cross_val_score(best_dt5, X_train5, y_train5, cv=10, scoring='f1_macro')\n",
    "print(cv_scores_dt5)\n",
    "print(cv_scores_dt5.mean())\n",
    "print(cv_scores_dt5.std())"
   ]
  },
  {
   "cell_type": "markdown",
   "id": "0b7452d6",
   "metadata": {},
   "source": [
    "##### hold-out method to evaluate the classification performance"
   ]
  },
  {
   "cell_type": "code",
   "execution_count": 167,
   "id": "43f14b39",
   "metadata": {},
   "outputs": [
    {
     "name": "stdout",
     "output_type": "stream",
     "text": [
      "              precision    recall  f1-score   support\n",
      "\n",
      "        high       0.63      0.61      0.62       134\n",
      "         low       0.61      0.63      0.62       131\n",
      "\n",
      "    accuracy                           0.62       265\n",
      "   macro avg       0.62      0.62      0.62       265\n",
      "weighted avg       0.62      0.62      0.62       265\n",
      "\n"
     ]
    }
   ],
   "source": [
    "best_dt5.fit(X_train5,y_train5)\n",
    "dt_pred5 = best_dt5.predict(X_test5)\n",
    "print(classification_report(y_test5, dt_pred5))"
   ]
  },
  {
   "cell_type": "markdown",
   "id": "845a7d31",
   "metadata": {},
   "source": [
    "#### 3) RandomForest \n",
    "#### 10-fold gridsearch cv to fine tune the hyperparameters"
   ]
  },
  {
   "cell_type": "code",
   "execution_count": 168,
   "id": "02b58359",
   "metadata": {},
   "outputs": [
    {
     "name": "stdout",
     "output_type": "stream",
     "text": [
      "Fitting 10 folds for each of 27 candidates, totalling 270 fits\n",
      "best score: 0.6914629803370398\n",
      "best params: {'randomforestclassifier__criterion': 'gini', 'randomforestclassifier__max_depth': 30, 'randomforestclassifier__n_estimators': 500}\n"
     ]
    }
   ],
   "source": [
    "rf5 = make_pipeline(OneHotEncoder(),\n",
    "                    RandomForestClassifier(class_weight='balanced', random_state=42))\n",
    "\n",
    "rf_param_grid5={'randomforestclassifier__n_estimators': [150, 300, 500],\n",
    "               'randomforestclassifier__criterion': ['gini', 'entropy', 'log_loss'],\n",
    "               'randomforestclassifier__max_depth': [30, 40, 50]}\n",
    "\n",
    "rf_gs5 = GridSearchCV(rf5, rf_param_grid5, cv=10, scoring='f1_macro', n_jobs=-1, verbose=1, refit=True)\n",
    "rf_gs5.fit(X_train5, y_train5)\n",
    "\n",
    "print(f\"best score: {rf_gs5.best_score_}\")\n",
    "print(f\"best params: {rf_gs5.best_params_}\")"
   ]
  },
  {
   "cell_type": "markdown",
   "id": "de4f67c7",
   "metadata": {},
   "source": [
    "#### 10-fold cv to make sure the model is not overfitting"
   ]
  },
  {
   "cell_type": "code",
   "execution_count": 169,
   "id": "c4aac485",
   "metadata": {},
   "outputs": [
    {
     "name": "stdout",
     "output_type": "stream",
     "text": [
      "[0.63698952 0.64646465 0.67479675 0.70811245 0.65800866 0.70411985\n",
      " 0.57547631 0.73400673 0.72039897 0.75949367]\n",
      "0.6817867551017041\n",
      "0.05159323301616622\n"
     ]
    }
   ],
   "source": [
    "best_rf5 = rf_gs.best_estimator_\n",
    "\n",
    "cv_scores_rf5 = cross_val_score(best_rf5, X_train5, y_train5, cv=10, scoring='f1_macro')\n",
    "print(cv_scores_rf5)\n",
    "print(cv_scores_rf5.mean())\n",
    "print(cv_scores_rf5.std())"
   ]
  },
  {
   "cell_type": "markdown",
   "id": "af68bd2b",
   "metadata": {},
   "source": [
    "##### hold-out method to evaluate the classification performance"
   ]
  },
  {
   "cell_type": "code",
   "execution_count": 170,
   "id": "a503f63a",
   "metadata": {},
   "outputs": [
    {
     "name": "stdout",
     "output_type": "stream",
     "text": [
      "              precision    recall  f1-score   support\n",
      "\n",
      "        high       0.65      0.72      0.68       134\n",
      "         low       0.68      0.61      0.64       131\n",
      "\n",
      "    accuracy                           0.66       265\n",
      "   macro avg       0.67      0.66      0.66       265\n",
      "weighted avg       0.67      0.66      0.66       265\n",
      "\n"
     ]
    }
   ],
   "source": [
    "best_rf5.fit(X_train5,y_train5)\n",
    "rf_pred5 = best_rf5.predict(X_test5)\n",
    "print(classification_report(y_test5, rf_pred5))"
   ]
  },
  {
   "cell_type": "markdown",
   "id": "c7c775a6",
   "metadata": {},
   "source": [
    "#### 4) KNN \n",
    "#### 10-fold gridsearch cv to fine tune the hyperparameters"
   ]
  },
  {
   "cell_type": "code",
   "execution_count": 171,
   "id": "1aeaff3b",
   "metadata": {},
   "outputs": [
    {
     "name": "stdout",
     "output_type": "stream",
     "text": [
      "Fitting 10 folds for each of 44 candidates, totalling 440 fits\n",
      "best score: 0.6648208173946177\n",
      "best params: {'kneighborsclassifier__algorithm': 'auto', 'kneighborsclassifier__n_neighbors': 10}\n"
     ]
    }
   ],
   "source": [
    "knn5 = make_pipeline(OneHotEncoder(),\n",
    "                     KNeighborsClassifier())\n",
    "\n",
    "knn_param_grid5={'kneighborsclassifier__n_neighbors': [1, 2, 3, 4, 5, 6, 7, 8, 9, 10, 20],\n",
    "                'kneighborsclassifier__algorithm': ['auto', 'ball_tree', 'kd_tree', 'brute']}\n",
    "\n",
    "knn_gs5 = GridSearchCV(knn5, knn_param_grid5, cv=10, scoring='f1_macro', n_jobs=-1, verbose=1, refit=True)\n",
    "knn_gs5.fit(X_train5, y_train5)\n",
    "\n",
    "print(f\"best score: {knn_gs5.best_score_}\")\n",
    "print(f\"best params: {knn_gs5.best_params_}\")"
   ]
  },
  {
   "cell_type": "markdown",
   "id": "ed4b561c",
   "metadata": {},
   "source": [
    "#### 10-fold cv to make sure the model is not overfitting"
   ]
  },
  {
   "cell_type": "code",
   "execution_count": 172,
   "id": "f608f088",
   "metadata": {},
   "outputs": [
    {
     "name": "stdout",
     "output_type": "stream",
     "text": [
      "[0.53568627 0.58431743 0.6328533  0.66655844 0.68273092 0.70198458\n",
      " 0.6760702  0.6802655  0.70799731 0.73142302]\n",
      "0.6599886984465704\n",
      "0.056846319716484336\n"
     ]
    }
   ],
   "source": [
    "best_knn5 = knn_gs.best_estimator_\n",
    "\n",
    "cv_scores_knn5 = cross_val_score(best_knn5, X_train5, y_train5, cv=10, scoring='f1_macro')\n",
    "print(cv_scores_knn5)\n",
    "print(cv_scores_knn5.mean())\n",
    "print(cv_scores_knn5.std())"
   ]
  },
  {
   "cell_type": "markdown",
   "id": "cab6a5da",
   "metadata": {},
   "source": [
    "##### hold-out method to evaluate the classification performance"
   ]
  },
  {
   "cell_type": "code",
   "execution_count": 173,
   "id": "c1592994",
   "metadata": {},
   "outputs": [
    {
     "name": "stdout",
     "output_type": "stream",
     "text": [
      "              precision    recall  f1-score   support\n",
      "\n",
      "        high       0.62      0.78      0.70       134\n",
      "         low       0.70      0.52      0.60       131\n",
      "\n",
      "    accuracy                           0.65       265\n",
      "   macro avg       0.66      0.65      0.65       265\n",
      "weighted avg       0.66      0.65      0.65       265\n",
      "\n"
     ]
    }
   ],
   "source": [
    "best_knn5.fit(X_train5,y_train5)\n",
    "knn_pred5 = best_knn5.predict(X_test5)\n",
    "print(classification_report(y_test5, knn_pred5))"
   ]
  },
  {
   "cell_type": "markdown",
   "id": "353bd657",
   "metadata": {},
   "source": [
    "#### 5) SVM \n",
    "#### 10-fold gridsearch cv to fune tune the hyperparameters"
   ]
  },
  {
   "cell_type": "code",
   "execution_count": 174,
   "id": "680ceb09",
   "metadata": {},
   "outputs": [
    {
     "name": "stdout",
     "output_type": "stream",
     "text": [
      "Fitting 10 folds for each of 20 candidates, totalling 200 fits\n",
      "best score: 0.6862822053971036\n",
      "best params: {'svc__C': 1.0, 'svc__kernel': 'rbf'}\n"
     ]
    }
   ],
   "source": [
    "svm5 = make_pipeline(OneHotEncoder(),\n",
    "                     SVC(class_weight='balanced', random_state=42))\n",
    "\n",
    "svm_param_grid5={'svc__kernel': ['linear', 'rbf', 'poly','sigmoid'],\n",
    "                'svc__C': [0.01, 0.1, 1.0, 10, 100]}\n",
    "\n",
    "svm_gs5 = GridSearchCV(svm5, svm_param_grid5, cv=10, scoring='f1_macro', n_jobs=-1, verbose=1, refit=True)\n",
    "svm_gs5.fit(X_train5, y_train5)\n",
    "\n",
    "print(f\"best score: {svm_gs5.best_score_}\")\n",
    "print(f\"best params: {svm_gs5.best_params_}\")"
   ]
  },
  {
   "cell_type": "markdown",
   "id": "5b85f818",
   "metadata": {},
   "source": [
    "#### 10-fold cv to make sure the model is not overfitting"
   ]
  },
  {
   "cell_type": "code",
   "execution_count": 175,
   "id": "78ce6c75",
   "metadata": {},
   "outputs": [
    {
     "name": "stdout",
     "output_type": "stream",
     "text": [
      "[0.56243163 0.65989608 0.71245507 0.68334135 0.74646983 0.64090909\n",
      " 0.66655844 0.68334135 0.74581725 0.68334135]\n",
      "0.6784561441832833\n",
      "0.05074288431322097\n"
     ]
    }
   ],
   "source": [
    "best_svm5 = svm_gs.best_estimator_\n",
    "\n",
    "cv_scores_svm5 = cross_val_score(best_svm5, X_train5, y_train5, cv=10, scoring='f1_macro')\n",
    "print(cv_scores_svm5)\n",
    "print(cv_scores_svm5.mean())\n",
    "print(cv_scores_svm5.std())"
   ]
  },
  {
   "cell_type": "markdown",
   "id": "99655358",
   "metadata": {},
   "source": [
    "##### hold-out method to evaluate the classification performance"
   ]
  },
  {
   "cell_type": "code",
   "execution_count": 176,
   "id": "926029e7",
   "metadata": {},
   "outputs": [
    {
     "name": "stdout",
     "output_type": "stream",
     "text": [
      "              precision    recall  f1-score   support\n",
      "\n",
      "        high       0.68      0.72      0.70       134\n",
      "         low       0.69      0.65      0.67       131\n",
      "\n",
      "    accuracy                           0.68       265\n",
      "   macro avg       0.68      0.68      0.68       265\n",
      "weighted avg       0.68      0.68      0.68       265\n",
      "\n"
     ]
    }
   ],
   "source": [
    "best_svm5.fit(X_train5,y_train5)\n",
    "svm_pred5 = best_svm5.predict(X_test5)\n",
    "print(classification_report(y_test5, svm_pred5))"
   ]
  },
  {
   "cell_type": "code",
   "execution_count": null,
   "id": "88b6689e",
   "metadata": {},
   "outputs": [],
   "source": []
  }
 ],
 "metadata": {
  "kernelspec": {
   "display_name": "Python 3 (ipykernel)",
   "language": "python",
   "name": "python3"
  },
  "language_info": {
   "codemirror_mode": {
    "name": "ipython",
    "version": 3
   },
   "file_extension": ".py",
   "mimetype": "text/x-python",
   "name": "python",
   "nbconvert_exporter": "python",
   "pygments_lexer": "ipython3",
   "version": "3.9.7"
  }
 },
 "nbformat": 4,
 "nbformat_minor": 5
}
